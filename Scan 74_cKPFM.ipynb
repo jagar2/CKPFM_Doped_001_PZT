{
 "cells": [
  {
   "cell_type": "markdown",
   "metadata": {},
   "source": [
    "## Band Excitation data procesing using pycroscopy\n",
    "#### Suhas Somnath, Chris R. Smith, Stephen Jesse\n",
    "The Center for Nanophase Materials Science and The Institute for Functional Imaging for Materials <br>\n",
    "Oak Ridge National Laboratory<br>\n",
    "2/10/2017\n",
    "\n",
    "\n",
    "## cKPFM analysis\n",
    "#### Sabine Neumayer\n",
    "University College Dublin<br> \n",
    "7/4/2017"
   ]
  },
  {
   "cell_type": "markdown",
   "metadata": {},
   "source": [
    "## Configure the notebook"
   ]
  },
  {
   "cell_type": "code",
   "execution_count": 1,
   "metadata": {},
   "outputs": [
    {
     "name": "stderr",
     "output_type": "stream",
     "text": [
      "Using TensorFlow backend.\n"
     ]
    }
   ],
   "source": [
    "# Ensure python 3 compatibility\n",
    "from __future__ import division, print_function, absolute_import\n",
    "\n",
    "# Import necessary libraries:\n",
    "# General utilities:\n",
    "import sys\n",
    "import os\n",
    "import math\n",
    "\n",
    "# Computation:\n",
    "import numpy as np\n",
    "import h5py\n",
    "\n",
    "# Visualization:\n",
    "import matplotlib.pyplot as plt\n",
    "import matplotlib.colors as colors\n",
    "import ipywidgets as widgets\n",
    "\n",
    "from IPython.display import display\n",
    "\n",
    "# Finally, pycroscopy itself\n",
    "import pycroscopy as px\n",
    "\n",
    "from os.path import join as pjoin\n",
    "\n",
    "# set up notebook to show plots within the notebook\n",
    "% matplotlib inline\n",
    "\n",
    "import glob\n",
    "\n",
    "import moviepy.video.io.ImageSequenceClip\n",
    "try:\n",
    "    output = subprocess.check_output(['ffmpeg', '-version'])\n",
    "    version = output.split(b'\\n')[0].split()[2]\n",
    "    print('Found: ffmpeg v{}'.format(version.decode('utf-8')))\n",
    "    ffmpeg_installed = True\n",
    "except:\n",
    "    ffmpeg_installed = False"
   ]
  },
  {
   "cell_type": "code",
   "execution_count": 2,
   "metadata": {},
   "outputs": [
    {
     "name": "stdout",
     "output_type": "stream",
     "text": [
      "Overwriting custom.mplstyle\n"
     ]
    }
   ],
   "source": [
    "%%file custom.mplstyle\n",
    "\n",
    "axes.linewidth: 1.5\n",
    "xtick.major.size: 6\n",
    "xtick.minor.size: 2\n",
    "xtick.major.width: 1.5\n",
    "xtick.minor.width: 1.5\n",
    "ytick.major.size: 6\n",
    "ytick.minor.size: 2\n",
    "ytick.major.width: 1.5\n",
    "ytick.minor.width: 1.5\n",
    "axes.labelweight: bold\n",
    "axes.labelpad: 1\n",
    "axes.labelsize: 12\n",
    "xtick.major.pad: 1\n",
    "ytick.major.pad: 1\n",
    "xtick.labelsize: 12\n",
    "ytick.labelsize: 12\n",
    "xtick.top: True\n",
    "ytick.right: True\n",
    "xtick.direction: in\n",
    "ytick.direction: in\n",
    "image.interpolation: nearest\n",
    "    \n",
    "# Loads the custom style\n",
    "plt.style.use('./custom.mplstyle')"
   ]
  },
  {
   "cell_type": "code",
   "execution_count": 3,
   "metadata": {},
   "outputs": [
    {
     "name": "stderr",
     "output_type": "stream",
     "text": [
      "/home/josh/anaconda3/lib/python3.6/site-packages/matplotlib/__init__.py:1078: UserWarning: Illegal line #25\n",
      "\t\"plt.style.use('./custom.mplstyle')\"\n",
      "\tin file \"./custom.mplstyle\"\n",
      "  warnings.warn('Illegal %s' % error_details)\n"
     ]
    }
   ],
   "source": [
    "# Loads the custom style\n",
    "plt.style.use('./custom.mplstyle')"
   ]
  },
  {
   "cell_type": "markdown",
   "metadata": {},
   "source": [
    "## Set some basic parameters for computation\n",
    "This notebook performs some functional fitting whose duration can be substantially decreased by using more memory and CPU cores. We have provided default values below but you may choose to change them if necessary."
   ]
  },
  {
   "cell_type": "code",
   "execution_count": 4,
   "metadata": {
    "collapsed": true
   },
   "outputs": [],
   "source": [
    "max_mem = 1024 * 8  # Maximum memory to use, in Mbs. Default = 1024\n",
    "# Number of logical cores to use in fitting.  None uses all but 2 available cores.\n",
    "max_cores = None"
   ]
  },
  {
   "cell_type": "markdown",
   "metadata": {},
   "source": [
    "## Make the data pycroscopy compatible\n",
    "Converting the raw data into a pycroscopy compatible hierarchical data format (HDF or .h5) file gives you access to the fast fitting algorithms and powerful analysis functions within pycroscopy\n",
    "\n",
    "#### H5 files:\n",
    "* are like smart containers that can store matrices with data, folders to organize these datasets, images, metadata like experimental parameters, links or shortcuts to datasets, etc.\n",
    "* are readily compatible with high-performance computing facilities\n",
    "* scale very efficiently from few kilobytes to several terabytes\n",
    "* can be read and modified using any language including Python, Matlab, C/C++, Java, Fortran, Igor Pro, etc.\n",
    "\n",
    "#### You can load either of the following:\n",
    "* Any .mat or .txt parameter file from the original experiment\n",
    "* A .h5 file generated from the raw data using pycroscopy - skips translation\n",
    "\n",
    "You can select desired file type by choosing the second option in the pull down menu on the bottom right of the file window"
   ]
  },
  {
   "cell_type": "code",
   "execution_count": 5,
   "metadata": {},
   "outputs": [
    {
     "name": "stdout",
     "output_type": "stream",
     "text": [
      "File is already Pycroscopy ready.\n",
      "Working on:\n",
      "./Doped_PZT_001_ckpfm_0015.h5\n"
     ]
    }
   ],
   "source": [
    " input_file_path ='./Doped_PZT_001_ckpfm_0015.h5' #px.io_utils.uiGetFile(caption='Select translated .h5 file or raw experiment data',\n",
    "                                         #filter='Translated file (*.h5);; \\\\ Parameters for raw BE data (*.txt *.mat *xls *.xlsx)')\n",
    "\n",
    "(data_dir, data_name) = os.path.split(input_file_path)\n",
    "\n",
    "if input_file_path.endswith('.h5'):\n",
    "    # No translation here\n",
    "    h5_path = input_file_path\n",
    "    tl = px.LabViewH5Patcher()\n",
    "    hdf = tl.translate(h5_path)\n",
    "else:\n",
    "    # Set the data to be translated\n",
    "    data_path = input_file_path\n",
    "\n",
    "    (junk, base_name) = os.path.split(data_dir)\n",
    "\n",
    "    # Check if the data is in the new or old format.  Initialize the correct translator for the format.\n",
    "    if base_name == 'newdataformat':\n",
    "        (junk, base_name) = os.path.split(junk)\n",
    "        translator = px.BEPSndfTranslator(max_mem_mb=max_mem)\n",
    "    else:\n",
    "        translator = px.BEodfTranslator(max_mem_mb=max_mem)\n",
    "    if base_name.endswith('_d'):\n",
    "        base_name = base_name[:-2]\n",
    "    # Translate the data\n",
    "    h5_path = translator.translate(data_path, show_plots=True, save_plots=False)\n",
    "    tl = px.LabViewH5Patcher()\n",
    "    hdf = tl.translate(h5_path)\n",
    "print('Working on:\\n' + h5_path)\n",
    "\n",
    "h5_main = px.hdf_utils.getDataSet(hdf.file, 'Raw_Data')[0]"
   ]
  },
  {
   "cell_type": "markdown",
   "metadata": {},
   "source": [
    "##### Inspect the contents of this h5 data file\n",
    "The file contents are stored in a tree structure, just like files on a conventional computer.\n",
    "The data is stored as a 2D matrix (position, spectroscopic value) regardless of the dimensionality of the data. Thus, the positions will be arranged as row0-col0, row0-col1.... row0-colN, row1-col0.... and the data for each position is stored as it was chronologically collected  \n",
    "\n",
    "The main dataset is always accompanied by four ancillary datasets that explain the position and spectroscopic value of any given element in the dataset."
   ]
  },
  {
   "cell_type": "code",
   "execution_count": 6,
   "metadata": {
    "scrolled": false
   },
   "outputs": [
    {
     "name": "stdout",
     "output_type": "stream",
     "text": [
      "Datasets and datagroups within the file:\n",
      "------------------------------------\n"
     ]
    },
    {
     "ename": "AttributeError",
     "evalue": "module 'scipy.io' has no attribute 'hdf_utils'",
     "output_type": "error",
     "traceback": [
      "\u001b[0;31m---------------------------------------------------------------------------\u001b[0m",
      "\u001b[0;31mAttributeError\u001b[0m                            Traceback (most recent call last)",
      "\u001b[0;32m<ipython-input-6-fee871883ec6>\u001b[0m in \u001b[0;36m<module>\u001b[0;34m()\u001b[0m\n\u001b[1;32m      1\u001b[0m \u001b[0mprint\u001b[0m\u001b[0;34m(\u001b[0m\u001b[0;34m'Datasets and datagroups within the file:\\n------------------------------------'\u001b[0m\u001b[0;34m)\u001b[0m\u001b[0;34m\u001b[0m\u001b[0m\n\u001b[0;32m----> 2\u001b[0;31m \u001b[0mpx\u001b[0m\u001b[0;34m.\u001b[0m\u001b[0mio\u001b[0m\u001b[0;34m.\u001b[0m\u001b[0mhdf_utils\u001b[0m\u001b[0;34m.\u001b[0m\u001b[0mprint_tree\u001b[0m\u001b[0;34m(\u001b[0m\u001b[0mhdf\u001b[0m\u001b[0;34m.\u001b[0m\u001b[0mfile\u001b[0m\u001b[0;34m)\u001b[0m\u001b[0;34m\u001b[0m\u001b[0m\n\u001b[0m\u001b[1;32m      3\u001b[0m \u001b[0;34m\u001b[0m\u001b[0m\n\u001b[1;32m      4\u001b[0m \u001b[0mprint\u001b[0m\u001b[0;34m(\u001b[0m\u001b[0;34m'\\nThe main dataset:\\n------------------------------------'\u001b[0m\u001b[0;34m)\u001b[0m\u001b[0;34m\u001b[0m\u001b[0m\n\u001b[1;32m      5\u001b[0m \u001b[0mprint\u001b[0m\u001b[0;34m(\u001b[0m\u001b[0mh5_main\u001b[0m\u001b[0;34m)\u001b[0m\u001b[0;34m\u001b[0m\u001b[0m\n",
      "\u001b[0;31mAttributeError\u001b[0m: module 'scipy.io' has no attribute 'hdf_utils'"
     ]
    }
   ],
   "source": [
    "print('Datasets and datagroups within the file:\\n------------------------------------')\n",
    "px.io.hdf_utils.print_tree(hdf.file)\n",
    " \n",
    "print('\\nThe main dataset:\\n------------------------------------')\n",
    "print(h5_main)\n",
    "print('\\nThe ancillary datasets:\\n------------------------------------')\n",
    "print(hdf.file['/Measurement_000/Channel_000/Position_Indices'])\n",
    "print(hdf.file['/Measurement_000/Channel_000/Position_Values'])\n",
    "print(hdf.file['/Measurement_000/Channel_000/Spectroscopic_Indices'])\n",
    "print(hdf.file['/Measurement_000/Channel_000/Spectroscopic_Values'])\n",
    "\n",
    "print('\\nMetadata or attributes in a datagroup\\n------------------------------------')\n",
    "for key in hdf.file['/Measurement_000'].attrs:\n",
    "    print('{} : {}'.format(key, hdf.file['/Measurement_000'].attrs[key]))"
   ]
  },
  {
   "cell_type": "code",
   "execution_count": 8,
   "metadata": {},
   "outputs": [],
   "source": [
    "?? px.hdf_utils.getDataSet"
   ]
  },
  {
   "cell_type": "markdown",
   "metadata": {},
   "source": [
    "## Get some basic parameters from the H5 file\n",
    "This information will be vital for futher analysis and visualization of the data"
   ]
  },
  {
   "cell_type": "code",
   "execution_count": 9,
   "metadata": {},
   "outputs": [
    {
     "name": "stdout",
     "output_type": "stream",
     "text": [
      "[b'X' b'Y'] [70, 70]\n"
     ]
    }
   ],
   "source": [
    "h5_pos_inds = px.hdf_utils.getAuxData(h5_main, auxDataName='Position_Indices')[-1]\n",
    "pos_sort = px.hdf_utils.get_sort_order(np.transpose(h5_pos_inds))\n",
    "pos_dims = px.hdf_utils.get_dimensionality(np.transpose(h5_pos_inds), pos_sort)\n",
    "pos_labels = np.array(h5_pos_inds.attrs['labels'])[pos_sort]\n",
    "print(pos_labels, pos_dims)\n",
    "\n",
    "parm_dict = hdf.file['/Measurement_000'].attrs\n",
    "is_ckpfm = hdf.file.attrs['data_type'] == 'cKPFMData'\n",
    "if is_ckpfm:\n",
    "    num_write_steps = parm_dict['VS_num_DC_write_steps']\n",
    "    num_read_steps = parm_dict['VS_num_read_steps']\n",
    "    num_fields = 2\n",
    "    \n",
    "    \n",
    "    "
   ]
  },
  {
   "cell_type": "markdown",
   "metadata": {},
   "source": [
    "## Visualize the raw data\n",
    "Use the sliders below to visualize spatial maps (2D only for now), and spectrograms.\n",
    "For simplicity, all the spectroscopic dimensions such as frequency, excitation bias, cycle, field, etc. have been collapsed to a single slider."
   ]
  },
  {
   "cell_type": "code",
   "execution_count": 10,
   "metadata": {
    "scrolled": true
   },
   "outputs": [
    {
     "name": "stdout",
     "output_type": "stream",
     "text": [
      "No position datasets found as attributes of /Measurement_000/Channel_000/Spectroscopic_Values\n"
     ]
    },
    {
     "data": {
      "image/png": "[encoded data removed]",
      "text/plain": [
       "<matplotlib.figure.Figure at 0x7fc6f4c099e8>"
      ]
     },
     "metadata": {},
     "output_type": "display_data"
    },
    {
     "data": {
      "application/vnd.jupyter.widget-view+json": {
       "model_id": "2ce0cb48d28c4c9080fd8c8f40806762",
       "version_major": 2,
       "version_minor": 0
      },
      "text/plain": [
       "A Jupyter Widget"
      ]
     },
     "metadata": {},
     "output_type": "display_data"
    },
    {
     "data": {
      "application/vnd.jupyter.widget-view+json": {
       "model_id": "735fd6d3440443f09ca3c5e796b2396c",
       "version_major": 2,
       "version_minor": 0
      },
      "text/plain": [
       "A Jupyter Widget"
      ]
     },
     "metadata": {},
     "output_type": "display_data"
    }
   ],
   "source": [
    "px.be_viz_utils.jupyter_visualize_be_spectrograms(h5_main)"
   ]
  },
  {
   "cell_type": "markdown",
   "metadata": {},
   "source": [
    "## Fit the Band Excitation (BE) spectra\n",
    "Fit each of the acquired spectra to a simple harmonic oscillator (SHO) model to extract the following information regarding the response:\n",
    "* Oscillation amplitude\n",
    "* Phase\n",
    "* Resonance frequency\n",
    "* Quality factor\n",
    "\n",
    "By default, the cell below will take any previous result instead of re-computing the SHO fit"
   ]
  },
  {
   "cell_type": "code",
   "execution_count": 10,
   "metadata": {},
   "outputs": [
    {
     "name": "stdout",
     "output_type": "stream",
     "text": [
      "Taking previous SHO results already present in file\n"
     ]
    }
   ],
   "source": [
    "h5_sho_group = px.hdf_utils.findH5group(h5_main, 'SHO_Fit')\n",
    "sho_fitter = px.BESHOmodel(h5_main, parallel=True)\n",
    "if len(h5_sho_group) == 0:\n",
    "    print('No SHO fit found. Doing SHO Fitting now')\n",
    "    h5_sho_guess = sho_fitter.do_guess(strategy='complex_gaussian', processors=max_cores)\n",
    "    h5_sho_fit = sho_fitter.do_fit(processors=max_cores)\n",
    "else:\n",
    "    print('Taking previous SHO results already present in file')\n",
    "    h5_sho_guess = h5_sho_group[-1]['Guess']\n",
    "    try:\n",
    "        h5_sho_fit = h5_sho_group[-1]['Fit']\n",
    "    except KeyError:\n",
    "        print('Previously computed guess found. Now computing fit')\n",
    "        h5_sho_fit = sho_fitter.do_fit(processors=max_cores, h5_guess=h5_sho_guess)"
   ]
  },
  {
   "cell_type": "markdown",
   "metadata": {},
   "source": [
    "# cKPFM data analysis\n",
    "\n",
    "- Specify the output file path where the figures should be saved to.\n",
    "- Set high_voltage_amplf to 10 if a high voltage amplifier was used, otherwise set to 1"
   ]
  },
  {
   "cell_type": "code",
   "execution_count": 11,
   "metadata": {
    "collapsed": true
   },
   "outputs": [],
   "source": [
    "# Specify output file path\n",
    "output_file_path = './'\n",
    "\n",
    "# If HV amplifier was used set high_voltage_amplf to 10, else to 1\n",
    "high_voltage_amplf = 10\n",
    "\n"
   ]
  },
  {
   "cell_type": "markdown",
   "metadata": {},
   "source": [
    "## Remove phase offset\n",
    "\n",
    "If removing the instrumental phase offset is not desired, set phase_offset = 0"
   ]
  },
  {
   "cell_type": "code",
   "execution_count": 12,
   "metadata": {},
   "outputs": [
    {
     "name": "stdout",
     "output_type": "stream",
     "text": [
      "Reshape Success = True\n",
      "Nd_mat shape =  (70, 70, 2, 84, 11)\n",
      "Phase offset [rad] =  0.199172\n"
     ]
    }
   ],
   "source": [
    "(Nd_mat, success) = px.io.hdf_utils.reshape_to_Ndims(h5_sho_fit)\n",
    "print('Reshape Success = ' + str(success))\n",
    "print('Nd_mat shape = ', Nd_mat.shape)\n",
    "\n",
    "phase_offset = Nd_mat[0, 0, 1, 0, 0]['Phase [rad]']\n",
    "\n",
    "# phase_offset = 0;\n",
    "\n",
    "print('Phase offset [rad] = ', phase_offset)\n",
    "\n",
    "Nd_mat[:,:,:,:,:]['Phase [rad]'] = Nd_mat[:,:,:,:,:]['Phase [rad]'] - phase_offset"
   ]
  },
  {
   "cell_type": "markdown",
   "metadata": {},
   "source": [
    "# Prints all amplitude, phase, resonance, and dissipation maps"
   ]
  },
  {
   "cell_type": "code",
   "execution_count": null,
   "metadata": {
    "collapsed": true
   },
   "outputs": [],
   "source": []
  },
  {
   "cell_type": "code",
   "execution_count": 13,
   "metadata": {
    "collapsed": true
   },
   "outputs": [],
   "source": [
    "import plotting_codes_Josh as j_plot"
   ]
  },
  {
   "cell_type": "code",
   "execution_count": 14,
   "metadata": {},
   "outputs": [
    {
     "data": {
      "image/png": "[encoded data removed]",
      "text/plain": [
       "<matplotlib.figure.Figure at 0x7fefe8f45470>"
      ]
     },
     "metadata": {},
     "output_type": "display_data"
    }
   ],
   "source": [
    "# Defines the figures and the axes\n",
    "fig, axes = plt.subplots(2, 2, figsize=(6, 6))\n",
    "axes = axes.reshape(4)\n",
    "\n",
    "signal_clim = {'Amplitude [V]': [],\n",
    "               'Phase [rad]': [],\n",
    "               'Frequency [Hz]': [],\n",
    "               'Quality Factor': []\n",
    "               }\n",
    "for i, (signal, value) in enumerate(signal_clim.items()):\n",
    "      axes[i].hist(Nd_mat[32:54,:,1,:,:][signal].reshape(-1),100)"
   ]
  },
  {
   "cell_type": "code",
   "execution_count": 17,
   "metadata": {
    "collapsed": true
   },
   "outputs": [],
   "source": [
    "from joblib import Parallel, delayed\n",
    "from mpl_toolkits.axes_grid1 import make_axes_locatable\n",
    "\n",
    "folder_path = '.'\n",
    "export_all_figures = False\n",
    "make_movies = False\n",
    "\n",
    "\n",
    "h5_sho_spec_inds = px.hdf_utils.getAuxData(h5_sho_fit, auxDataName='Spectroscopic_Indices')[0]\n",
    "h5_sho_spec_vals = px.hdf_utils.getAuxData(h5_sho_fit, auxDataName='Spectroscopic_Values')[0]\n",
    "\n",
    "voltage_reshape = h5_sho_spec_vals[1] + h5_sho_spec_vals[2]"
   ]
  },
  {
   "cell_type": "code",
   "execution_count": 18,
   "metadata": {
    "collapsed": true
   },
   "outputs": [],
   "source": [
    "# Checks if user selected to make movie and that they have the needed dependancies\n",
    "# If this codes does not run check if you have ffmpeg installed on your OS.\n",
    "if make_movies:\n",
    "\n",
    "    # Makes a new folder\n",
    "    folder = pjoin(folder_path, 'Movie Images')\n",
    "    os.makedirs(folder, exist_ok=True)\n",
    "\n",
    "    # (User) Sets the colorscale {Initial Amplitude = [1e-4,4e-4]; Phase = [-110,150];\n",
    "    #                                     Resonance = [367,370.5]; Dissipation = [200,350]}\n",
    "    signal_clim = {('Amplitude', 'Amplitude [V]', '%.0e'): [0, 6e-3],\n",
    "                   ('Phase', 'Phase [rad]', '%.1d'): [-3.5, 0.5],\n",
    "                   ('Resonance', 'Frequency [Hz]', '%.0d'): [324e3, 329e3],\n",
    "                   ('Dissipation', 'Quality Factor', '%.0d'): [225, 375],\n",
    "                   }\n",
    "\n",
    "    j_plot.plot_figs_for_movie(Nd_mat, voltage_reshape, signal_clim, folder,\n",
    "                               x_range=[0, 54], y_range=[0, 70])"
   ]
  },
  {
   "cell_type": "markdown",
   "metadata": {},
   "source": [
    "# Generates Movie of Switching"
   ]
  },
  {
   "cell_type": "code",
   "execution_count": 19,
   "metadata": {
    "collapsed": true
   },
   "outputs": [],
   "source": [
    "# Checks if user selected to make movie and that they have the needed dependancies\n",
    "# If this codes does not run check if you have ffmpeg installed on your OS.\n",
    "if make_movies:\n",
    "    files = glob.glob('./Movie Images/*.png')\n",
    "    files = sorted(files)\n",
    "    clip = moviepy.video.io.ImageSequenceClip.ImageSequenceClip(files, fps=4)\n",
    "    clip.write_videofile('Movie1.mp4', fps=4)"
   ]
  },
  {
   "cell_type": "markdown",
   "metadata": {},
   "source": [
    "## Display cKPFM data\n",
    "The figure shows:\n",
    "\n",
    "- Read and write voltage steps with the selected step marked as a red dot\n",
    "- Response map at read and write voltage steps selected with sliders\n",
    "- Real component of the response at selected read and write steps and x/y coordinates <b> -> select option</b>\n",
    "- Response at each write step (x-axis) after each write pulse (color coded)\n",
    "\n",
    "The 'Save figure' button saves the displayed figure in the above specified output file path as tiff, png and eps file. Alternatively, figures can be copy pasted into other programs like Powerpoint or Word.\n",
    "\n",
    "#### Select display option by setting 'option = 1' or 'option = 2' in the second line of the code\n",
    "- Option 1: display response curves from the maximum write step to the minimum write step\n",
    "- Option 2: display response curves from all write voltages"
   ]
  },
  {
   "cell_type": "code",
   "execution_count": 20,
   "metadata": {
    "scrolled": false
   },
   "outputs": [
    {
     "name": "stdout",
     "output_type": "stream",
     "text": [
      "No position datasets found as attributes of /Measurement_000/Channel_000/Raw_Data-SHO_Fit_000/Spectroscopic_Values\n",
      "These are the labels [b'Field' b'write_bias' b'read_bias']\n",
      "[b'X' b'Y' b'Field' b'write_bias' b'read_bias']\n",
      "(70, 70, 2, 84, 11)\n"
     ]
    },
    {
     "data": {
      "application/vnd.jupyter.widget-view+json": {
       "model_id": "b93263d3f3bf45f080cbc37de20fad55"
      }
     },
     "metadata": {},
     "output_type": "display_data"
    },
    {
     "data": {
      "application/vnd.jupyter.widget-view+json": {
       "model_id": "93ed888ac2874a408baf8a11e3fceb0a"
      }
     },
     "metadata": {},
     "output_type": "display_data"
    },
    {
     "data": {
      "text/plain": [
       "<matplotlib.figure.Figure at 0x7fefad403dd8>"
      ]
     },
     "metadata": {},
     "output_type": "display_data"
    },
    {
     "data": {
      "image/png": "[encoded data removed]",
      "text/plain": [
       "<matplotlib.figure.Figure at 0x7fefad40c4a8>"
      ]
     },
     "metadata": {},
     "output_type": "display_data"
    }
   ],
   "source": [
    "global option, save_figure\n",
    "option = 1\n",
    "\n",
    "h5_sho_spec_inds = px.hdf_utils.getAuxData(\n",
    "    h5_sho_fit, auxDataName='Spectroscopic_Indices')[0]\n",
    "h5_sho_spec_vals = px.hdf_utils.getAuxData(\n",
    "    h5_sho_fit, auxDataName='Spectroscopic_Values')[0]\n",
    "\n",
    "if is_ckpfm:\n",
    "    # It turns out that the read voltage index starts from 1 instead of 0\n",
    "    # Also the VDC indices are NOT repeating. They are just rising monotonically\n",
    "    write_volt_index = np.argwhere(\n",
    "        h5_sho_spec_inds.attrs['labels'] == 'write_bias')[0][0]\n",
    "    read_volt_index = np.argwhere(\n",
    "        h5_sho_spec_inds.attrs['labels'] == 'read_bias')[0][0]\n",
    "    h5_sho_spec_inds[read_volt_index, :] -= 1\n",
    "    h5_sho_spec_inds[write_volt_index, :] = np.tile(\n",
    "        np.repeat(np.arange(num_write_steps), num_fields), num_read_steps)\n",
    "\n",
    "# Get the bias matrix:\n",
    "bias_mat, _ = px.io.hdf_utils.reshape_to_Ndims(\n",
    "    h5_sho_spec_vals, h5_spec=h5_sho_spec_inds)\n",
    "bias_vec_w = bias_mat[1, 1, :, 1] * high_voltage_amplf\n",
    "bias_vec_r = bias_mat[2, 1, :, :] * high_voltage_amplf\n",
    "bias_vec_r_all = h5_sho_spec_vals[2, :] * high_voltage_amplf\n",
    "bias_vec_w_all = h5_sho_spec_vals[1, :] * high_voltage_amplf\n",
    "\n",
    "\n",
    "# Option 1: only show curves from maximum to minimum write voltage:\n",
    "if option == 1:\n",
    "    write_step_start = np.argmax(bias_vec_w)\n",
    "    write_step_end = np.argmin(bias_vec_w)\n",
    "\n",
    "# Option 2: show all curves from the whole write voltage waveform\n",
    "if option == 2:\n",
    "    write_step_start = 0\n",
    "    write_step_end = num_write_steps - 1\n",
    "\n",
    "bias_vec_r_display = np.transpose(\n",
    "    bias_vec_r[write_step_start:write_step_end + 1, :])\n",
    "\n",
    "\n",
    "save_figure = False\n",
    "\n",
    "\n",
    "# (Nd_mat, success) = px.io.hdf_utils.reshape_to_Ndims(h5_sho_fit)\n",
    "# print('Reshape Success: ' + str(success))\n",
    "\n",
    "\n",
    "sho_spec_sort_order = px.hdf_utils.get_sort_order(h5_sho_spec_vals)\n",
    "sho_spec_labels = h5_sho_spec_inds.attrs['labels']\n",
    "pos_labels = h5_pos_inds.attrs['labels']\n",
    "print('These are the labels', sho_spec_labels)\n",
    "sho_spec_labels_sorted = sho_spec_labels[sho_spec_sort_order]\n",
    "\n",
    "nd_labels = np.hstack((pos_labels, sho_spec_labels_sorted))\n",
    "print(nd_labels)\n",
    "print(Nd_mat.shape)\n",
    "\n",
    "num_read_steps = Nd_mat.shape[4]\n",
    "num_write_steps = Nd_mat.shape[3]\n",
    "num_row = Nd_mat.shape[1]\n",
    "num_col = Nd_mat.shape[0]\n",
    "\n",
    "\n",
    "h5_sho_spec_inds = px.hdf_utils.getAuxData(\n",
    "    h5_sho_fit, 'Spectroscopic_Indices')[0]\n",
    "h5_sho_spec_vals = px.hdf_utils.getAuxData(\n",
    "    h5_sho_fit, 'Spectroscopic_Values')[0]\n",
    "\n",
    "\n",
    "row = 0\n",
    "col = 0\n",
    "field = 1\n",
    "dc_step_read = 0\n",
    "dc_step_write = 0\n",
    "\n",
    "# Select color scale range for map here\n",
    "cmin = -0.0001\n",
    "cmax = 0.0001\n",
    "\n",
    "resp_vec_w = Nd_mat[row, col, field, :, dc_step_read]['Amplitude [V]'] * \\\n",
    "    np.cos(Nd_mat[row, col, field, :, dc_step_read]['Phase [rad]']) * 1000\n",
    "# resp_vec_r = Nd_mat[row,col,field,:,:]['Amplitude [V]'] * np.cos(Nd_mat[row,col,field,:,:]['Phase [rad]'])*1000\n",
    "\n",
    "\n",
    "resp_mat_r = Nd_mat[:, :, 1, dc_step_write, dc_step_read]['Amplitude [V]'] * \\\n",
    "    np.cos(Nd_mat[:, :, 1, dc_step_write, dc_step_read]['Phase [rad]']) * 1000\n",
    "\n",
    "resp_vec_r = np.squeeze(Nd_mat[:, :, 1, write_step_start:write_step_end + 1, :]['Amplitude [V]']\n",
    "                        * np.cos(Nd_mat[:, :, 1, write_step_start:write_step_end + 1, :]['Phase [rad]']) * 1000)\n",
    "\n",
    "\n",
    "def make_figure(resp_mat_r, resp_vec_r, resp_vec_w, dc_step_read, dc_step_write, col, row):\n",
    "    global save_figure\n",
    "    plt.clf()\n",
    "    fig = plt.figure(figsize=(13, 9))\n",
    "    fig.set_facecolor('white')\n",
    "\n",
    "    ax_bias_w = plt.subplot2grid((20, 2), (0, 0), colspan=1, rowspan=3)\n",
    "    ax_bias_r = plt.subplot2grid((20, 2), (5, 0), colspan=1, rowspan=3)\n",
    "    ax_loop_w = plt.subplot2grid((20, 2), (0, 1), colspan=1, rowspan=7)\n",
    "    ax_loop_r = plt.subplot2grid((20, 2), (9, 1), colspan=1, rowspan=8)\n",
    "    ax_colorbar = plt.subplot2grid((20, 2), (19, 1), colspan=1, rowspan=1)\n",
    "    ax_map = plt.subplot2grid((20, 2), (10, 0), colspan=1, rowspan=11)\n",
    "\n",
    "    ax_bias_w.set_xlabel('Step', fontsize=12)\n",
    "    ax_bias_w.set_ylabel('Write voltage [V]', fontsize=12)\n",
    "    ax_bias_r.set_xlabel('Step', fontsize=12)\n",
    "    ax_bias_r.set_ylabel('Read voltage [V]', fontsize=12)\n",
    "    ax_loop_w.set_ylabel('Response [a.u.]', fontsize=12)\n",
    "    ax_loop_w.set_xlabel('Write voltage [V]', fontsize=12)\n",
    "    ax_loop_r.set_ylabel('Response [a.u.]', fontsize=12)\n",
    "    ax_loop_r.set_xlabel('Read voltage [V]', fontsize=12)\n",
    "\n",
    "    # Title saying read and write voltages\n",
    "    fig.suptitle('Read voltage = ' + str(bias_vec_r[1, dc_step_read]) + ' V, Write voltage = ' + str(bias_vec_w[dc_step_write]) + ' V'\n",
    "                 ', x = ' + str(col) + ', y = ' + str(row), fontsize=14)\n",
    "\n",
    "    co_b = ax_map.imshow(resp_mat_r, cmap=px.plot_utils.cmap_jet_white_center(), origin='upper',\n",
    "                         interpolation='none')\n",
    "#     co_b = ax_map.imshow(resp_mat_r, cmap=px.plot_utils.cmap_jet_white_center(), origin='lower',\n",
    "#                          interpolation='none', clim = [cmin, cmax]);\n",
    "    cb = fig.colorbar(co_b)\n",
    "\n",
    "    # Graph of DC write voltage\n",
    "    ax_bias_w.plot(bias_vec_w, 'b.')\n",
    "    ax_bias_w.plot(dc_step_write, bias_vec_w[dc_step_write], 'r.')\n",
    "    ax_bias_w.set_ylim([np.min(bias_vec_w) - 0.5, np.max(bias_vec_w) + 0.5])\n",
    "\n",
    "    # Graph of DC read voltage\n",
    "    ax_bias_r.plot(np.transpose(bias_vec_r[1]), 'b.')\n",
    "    ax_bias_r.plot(dc_step_read, np.transpose(\n",
    "        bias_vec_r[1, dc_step_read]), 'r.')\n",
    "    ax_bias_r.set_ylim([np.min(bias_vec_r) - 0.5, np.max(bias_vec_r) + 0.5])\n",
    "\n",
    "    # Graph of response loop (amplitude * cos(phase)) vs write voltage at selected x, y and read step\n",
    "    ax_loop_w.plot(bias_vec_w, resp_vec_w, '.-')\n",
    "\n",
    "    # Response loops (amplitude * cos(phase)) of all write voltage steps (color coded) vs read voltage at selected x, y\n",
    "    px.plot_utils.plot_line_family(ax_loop_r, bias_vec_r_display[:, :],\n",
    "                                   resp_vec_r, line_names='None',\n",
    "                                   label_prefix='Line', label_suffix='', cmap=plt.cm.jet)\n",
    "\n",
    "    # Generate a fake color bar for loops vs read voltage\n",
    "#     colorbar_mat = np.column_stack((range(0,num_write_steps-1),range(0,num_write_steps-1)))\n",
    "#     ax_colorbar.imshow(np.transpose(colorbar_mat[:,:]), cmap=plt.cm.jet, origin='upper', interpolation='none')\n",
    "#     plt.title('Response map [a.u.]', fontsize = 12);\n",
    "# #     ax_colorbar.set_yticklabels('')\n",
    "#     ax_colorbar.tick_params(axis = 'y', left = 'off', right = 'off')\n",
    "#     ax_colorbar.set_xlabel('Write voltage step', fontsize = 12)\n",
    "\n",
    "    if option == 1:\n",
    "        colorbar_mat = np.column_stack((range(\n",
    "            write_step_start, write_step_end + 1), range(write_step_start, write_step_end + 1)))\n",
    "        ax_colorbar.imshow(np.transpose(\n",
    "            colorbar_mat[:, :]), cmap=plt.cm.jet, origin='lower', interpolation='none')\n",
    "        ax_colorbar.set_yticklabels('')\n",
    "        ax_colorbar.tick_params(axis='y', left='off', right='off')\n",
    "        plt.sca(ax_colorbar)\n",
    "        plt.xticks([0, write_step_end - write_step_start],\n",
    "                   [bias_vec_w[write_step_start], bias_vec_w[write_step_end]])\n",
    "        ax_colorbar.set_xlabel('Write voltage [V]', fontsize=12)\n",
    "\n",
    "    if option == 2:\n",
    "        colorbar_mat = np.column_stack(\n",
    "            (range(0, num_write_steps - 1), range(0, num_write_steps - 1)))\n",
    "        ax_colorbar.imshow(np.transpose(\n",
    "            colorbar_mat[:, :]), cmap=plt.cm.jet, origin='lower', interpolation='none')\n",
    "        ax_colorbar.set_yticklabels('')\n",
    "        ax_colorbar.tick_params(axis='y', left='off', right='off')\n",
    "        ax_colorbar.set_xlabel('Write voltage step', fontsize=12)\n",
    "\n",
    "\n",
    "#     fig.tight_layout();\n",
    "\n",
    "    if save_figure == True:\n",
    "        fig.savefig(output_file_path + '\\cb_cKPFM_Vr' + str(dc_step_read) + '_Vw' +\n",
    "                    str(dc_step_write) + '_x=' + str(col) + '_y=' + str(row) + '.png', format='png')\n",
    "        fig.savefig(output_file_path + '\\cb_cKPFM_Vr' + str(dc_step_read) + '_Vw' +\n",
    "                    str(dc_step_write) + '_x=' + str(col) + '_y=' + str(row) + '.eps', format='eps')\n",
    "        fig.savefig(output_file_path + '\\cb_cKPFM_Vr' + str(dc_step_read) + '_Vw' +\n",
    "                    str(dc_step_write) + '_x=' + str(col) + '_y=' + str(row) + '.tif', format='tiff')\n",
    "        save_figure = False\n",
    "\n",
    "\n",
    "def update_sho_plots(dc_step_read, dc_step_write, col, row, **kwargs):\n",
    "    resp_vec_w = Nd_mat[row, col, field, :, dc_step_read]['Amplitude [V]'] * \\\n",
    "        np.cos(Nd_mat[row, col, field, :, dc_step_read]['Phase [rad]']) * 1000\n",
    "    resp_vec_w = Nd_mat[row, col, field, :, dc_step_read]['Amplitude [V]'] * \\\n",
    "        np.cos(Nd_mat[row, col, field, :, dc_step_read]['Phase [rad]']) * 1000\n",
    "#     resp_vec_r = Nd_mat[row,col,field,:,:]['Amplitude [V]'] * np.cos(Nd_mat[row,col,field,:,:]['Phase [rad]'])*1000\n",
    "    resp_mat_r = Nd_mat[:, :, 1, dc_step_write, dc_step_read]['Amplitude [V]'] * \\\n",
    "        np.cos(Nd_mat[:, :, 1, dc_step_write, dc_step_read]\n",
    "               ['Phase [rad]']) * 1000\n",
    "    resp_vec_r = (Nd_mat[row, col, field, write_step_start:write_step_end + 1, :]['Amplitude [V]']\n",
    "                  * np.cos(Nd_mat[row, col, field, write_step_start:write_step_end + 1, :]['Phase [rad]']) * 1000)\n",
    "\n",
    "    #resp_mat_r[row,col] = 1000\n",
    "    make_figure(resp_mat_r, resp_vec_r, resp_vec_w,\n",
    "                dc_step_read, dc_step_write, col, row)\n",
    "\n",
    "\n",
    "def on_save_button_clicked(b):\n",
    "    global save_figure\n",
    "    save_figure = True\n",
    "    dc_step_read = dc_step_read_slider.value\n",
    "    dc_step_write = dc_step_write_slider.value\n",
    "    col = x_slider.value\n",
    "    row = y_slider.value\n",
    "\n",
    "    update_sho_plots(dc_step_read, dc_step_write, col, row)\n",
    "\n",
    "\n",
    "slider_dict = dict()\n",
    "\n",
    "dc_step_read_slider = widgets.IntSlider(min=0, max=num_read_steps - 1, step=1, value=4,\n",
    "                                        description='Read step', continuous_update=False)\n",
    "dc_step_write_slider = widgets.IntSlider(min=0, max=num_write_steps - 1, step=1, value=0,\n",
    "                                         description='Write step', continuous_update=False)\n",
    "x_slider = widgets.IntSlider(min=0, max=num_col - 1, step=1, value=0,\n",
    "                             description='x', continuous_update=False)\n",
    "y_slider = widgets.IntSlider(min=0, max=num_row - 1, step=1, value=0,\n",
    "                             description='y', continuous_update=False)\n",
    "\n",
    "widgets.interact(update_sho_plots, dc_step_read=dc_step_read_slider,\n",
    "                 dc_step_write=dc_step_write_slider, col=x_slider, row=y_slider, **slider_dict)\n",
    "\n",
    "\n",
    "button = widgets.Button(description='Save figure')\n",
    "display(button)\n",
    "button.on_click(on_save_button_clicked)"
   ]
  },
  {
   "cell_type": "markdown",
   "metadata": {},
   "source": [
    "## Display averaged cKPFM data\n",
    "\n",
    "Figures show response at each write step (x-axis) after each write pulse (color coded) averaged over the whole map (left) and averaged over the area selected with x- and y-range sliders (right).\n",
    "\n",
    "#### Select display option by setting 'option = 1' or 'option = 2' in the first line of the code\n",
    "- Option 1: display response curves from the maximum write step to the minimum write step\n",
    "- Option 2: display response curves from all write voltages"
   ]
  },
  {
   "cell_type": "code",
   "execution_count": 21,
   "metadata": {
    "scrolled": false
   },
   "outputs": [
    {
     "data": {
      "application/vnd.jupyter.widget-view+json": {
       "model_id": "f836592af27b458798c7a67881835f87"
      }
     },
     "metadata": {},
     "output_type": "display_data"
    },
    {
     "data": {
      "application/vnd.jupyter.widget-view+json": {
       "model_id": "db95d8a8b86b44c49dbbcedec152a2cd"
      }
     },
     "metadata": {},
     "output_type": "display_data"
    },
    {
     "data": {
      "image/png": "[encoded data removed]",
      "text/plain": [
       "<matplotlib.figure.Figure at 0x7fefb6eda588>"
      ]
     },
     "metadata": {},
     "output_type": "display_data"
    }
   ],
   "source": [
    "option = 1\n",
    "\n",
    "# Option 1: only show curves from maximum to minimum write voltage:\n",
    "if option == 1:\n",
    "    write_step_start = np.argmax(bias_vec_w)\n",
    "    write_step_end = np.argmin(bias_vec_w)\n",
    "\n",
    "# Option 2: show all curves from the whole write voltage waveform\n",
    "if option == 2:\n",
    "    write_step_start = 0\n",
    "    write_step_end = num_write_steps-1\n",
    "\n",
    "\n",
    "\n",
    "\n",
    "bias_vec_r_display = np.transpose(bias_vec_r[write_step_start:write_step_end+1,:])\n",
    "\n",
    "num_display_steps = bias_vec_r_display.shape[1]\n",
    "\n",
    "\n",
    "global save_figure_vsr\n",
    "\n",
    "save_figure_vsr = False\n",
    "\n",
    "\n",
    "resp_mat_vsr = np.squeeze(Nd_mat[:,:,1,write_step_start:write_step_end+1,:]['Amplitude [V]'] \n",
    "                          * np.cos(Nd_mat[:,:,1,write_step_start:write_step_end+1,:]['Phase [rad]'])*1000)\n",
    "\n",
    "# Calculate response at 0 V read voltage averaged over all pixels\n",
    "resp_vsr_mean1 = np.nanmean(resp_mat_vsr,axis = 0)\n",
    "resp_vsr_std1 = np.nanstd(resp_mat_vsr,axis = 0)\n",
    "resp_vsr_mean = np.nanmean(resp_vsr_mean1,axis = 0)\n",
    "resp_vsr_std = np.nanstd(resp_vsr_std1,axis = 0)\n",
    "\n",
    "\n",
    "\n",
    "def make_figure_respvsr(resp_vsr_mean_range, resp_vsr_std_range, x_range, y_range):\n",
    "    global save_figure_vsr\n",
    "    \n",
    "    fig_vsr = plt.figure(figsize=(12,5))  \n",
    "    fig_vsr.clf()\n",
    "    fig_vsr.set_facecolor('white')\n",
    "    ax_plot = plt.subplot2grid((5, 2), (0, 0), colspan=1, rowspan=4)\n",
    "    ax_plot_range = plt.subplot2grid((5, 2), (0, 1), colspan=1, rowspan=4)\n",
    "    ax_colorbar = plt.subplot2grid((5, 2), (4, 0), colspan=1, rowspan=1)\n",
    "    ax_colorbar2 = plt.subplot2grid((5, 2), (4, 1), colspan=1, rowspan=1)\n",
    "\n",
    "    px.plot_utils.plot_line_family(ax_plot, bias_vec_r_display[:, :], \n",
    "                                   resp_vsr_mean[:, :], line_names='None',label_prefix='Line', \n",
    "                                   label_suffix='', cmap=plt.cm.jet)\n",
    "    px.plot_utils.plot_line_family(ax_plot_range, bias_vec_r_display[:, :], \n",
    "                                   resp_vsr_mean_range[:, :], line_names='None',\n",
    "                                   label_prefix='Line', label_suffix='', cmap=plt.cm.jet)\n",
    "         \n",
    "    ax_plot.set_xlabel('Read voltage [V]', fontsize = 12)\n",
    "    ax_plot.set_ylabel('Response [a.u.]', fontsize = 12)\n",
    "    ax_plot.set_title('Averaged over whole map', fontsize = 12)\n",
    "    \n",
    "    ax_plot_range.set_xlabel('Read voltage [V]', fontsize = 12)\n",
    "    ax_plot_range.set_ylabel('Response [a.u.]', fontsize = 12)\n",
    "    ax_plot_range.set_title('Averaged x = '+str(x_range[0])+' - '+str(x_range[1])\n",
    "                            +', y = '+str(y_range[0])+' - '+str(y_range[1]), fontsize = 12)\n",
    "    if option == 1:\n",
    "        colorbar_mat = np.column_stack((range(write_step_start,write_step_end+1),range(write_step_start,write_step_end+1)))\n",
    "        ax_colorbar.imshow(np.transpose(colorbar_mat[:,:]), cmap=plt.cm.jet, origin='lower', interpolation='none')\n",
    "        ax_colorbar.set_yticklabels('')\n",
    "        ax_colorbar.tick_params(axis = 'y', left = 'off', right = 'off')\n",
    "        plt.sca(ax_colorbar)\n",
    "        plt.xticks([0,write_step_end-write_step_start],[bias_vec_w[write_step_start],bias_vec_w[write_step_end]])\n",
    "        ax_colorbar.set_xlabel('Write voltage [V]', fontsize = 12)\n",
    "        \n",
    "        ax_colorbar2.imshow(np.transpose(colorbar_mat[:,:]), cmap=plt.cm.jet, origin='lower', interpolation='none')\n",
    "        ax_colorbar2.set_yticklabels('')\n",
    "        ax_colorbar2.tick_params(axis = 'y', left = 'off', right = 'off')\n",
    "        plt.sca(ax_colorbar2)\n",
    "        plt.xticks([0,write_step_end-write_step_start],[bias_vec_w[write_step_start],bias_vec_w[write_step_end]])\n",
    "        ax_colorbar2.set_xlabel('Write voltage [V]', fontsize = 12)\n",
    "\n",
    "        \n",
    "    \n",
    "    if option == 2:\n",
    "        colorbar_mat = np.column_stack((range(0,num_write_steps-1),range(0,num_write_steps-1)))\n",
    "        ax_colorbar.imshow(np.transpose(colorbar_mat[:,:]), cmap=plt.cm.jet, origin='lower', interpolation='none')\n",
    "        ax_colorbar.set_yticklabels('')\n",
    "        ax_colorbar.tick_params(axis = 'y', left = 'off', right = 'off')\n",
    "        ax_colorbar.set_xlabel('Write voltage step', fontsize = 12)\n",
    "        \n",
    "        ax_colorbar2.imshow(np.transpose(colorbar_mat[:,:]), cmap=plt.cm.jet, origin='lower', interpolation='none')\n",
    "        ax_colorbar2.set_yticklabels('')\n",
    "        ax_colorbar2.tick_params(axis = 'y', left = 'off', right = 'off')\n",
    "        ax_colorbar2.set_xlabel('Write voltage step', fontsize = 12)\n",
    "        \n",
    "     \n",
    "        \n",
    "    fig_vsr.tight_layout();\n",
    "   \n",
    "    if save_figure_vsr == True:\n",
    "        fig_vsr.savefig(output_file_path+'\\cbColor_Response_vsReadVoltage_x'+str(x_range)+'_y'+str(y_range)+'.png', format='png')\n",
    "        fig_vsr.savefig(output_file_path+'\\cbColor_Response_vsReadVoltage_x'+str(x_range)+'_y'+str(y_range)+'.eps', format='eps')\n",
    "        fig_vsr.savefig(output_file_path+'\\cbColor_Response_vsReadVoltage_x'+str(x_range)+'_y'+str(y_range)+'.tif', format='tiff')\n",
    "        save_figure_vsr = False\n",
    "        \n",
    "        \n",
    "            \n",
    "\n",
    "def update_xyrange(x_range, y_range):\n",
    "\n",
    "# Calculate response averaged over selected pixels\n",
    "    \n",
    "    resp_mat_vsr_range = np.squeeze(Nd_mat[y_range[0]:y_range[1], x_range[0]:x_range[1],1,write_step_start:write_step_end+1,:]['Amplitude [V]']\n",
    "                                    *np.cos(Nd_mat[y_range[0]:y_range[1], x_range[0]:x_range[1],1,write_step_start:write_step_end+1,:]['Phase [rad]'])*1000)\n",
    "    \n",
    "    resp_vsr_mean1_range = np.nanmean(resp_mat_vsr_range,axis = 0)\n",
    "    resp_vsr_std1_range = np.nanstd(resp_mat_vsr_range,axis = 0)\n",
    "    resp_vsr_mean_range = np.nanmean(resp_vsr_mean1_range,axis = 0)\n",
    "    resp_vsr_std_range = np.nanstd(resp_vsr_std1_range,axis = 0)\n",
    "\n",
    "    make_figure_respvsr(resp_vsr_mean_range, resp_vsr_std_range, x_range, y_range)\n",
    "                                        \n",
    "                                          \n",
    "x_range = widgets.IntRangeSlider(min = 0,max = num_col-1,step = 1,value = 0,\n",
    "                             description = 'x-range',continuous_update = False)\n",
    "\n",
    "y_range = widgets.IntRangeSlider(min = 0,max = num_col-1,step = 1,value = 0,\n",
    "                             description = 'y-range',continuous_update = False)\n",
    "\n",
    "widgets.interact(update_xyrange,x_range = x_range, y_range = y_range);\n",
    "\n",
    "\n",
    "\n",
    "def on_save_button_clicked_vsr(b):\n",
    "    global save_figure_vsr \n",
    "    save_figure_vsr = True\n",
    "  \n",
    "    update_xyrange(x_range.value, y_range.value)\n",
    "\n",
    "button_vsr = widgets.Button(description = 'Save figure')\n",
    "display(button_vsr)\n",
    "button_vsr.on_click(on_save_button_clicked_vsr)\n",
    "\n",
    "\n"
   ]
  },
  {
   "cell_type": "markdown",
   "metadata": {},
   "source": [
    "# TODO make a nice version of this"
   ]
  },
  {
   "cell_type": "markdown",
   "metadata": {},
   "source": [
    "## Export response after all write steps for all pixels\n",
    "\n",
    "Response data (\\= amplitude * cos(phase)) is exported into separate tab delimited text files for each read voltage (see file names). The columns in the text file represent write voltage steps, the rows represent individual pixels. "
   ]
  },
  {
   "cell_type": "code",
   "execution_count": 31,
   "metadata": {},
   "outputs": [
    {
     "data": {
      "text/plain": [
       "'.'"
      ]
     },
     "execution_count": 31,
     "metadata": {},
     "output_type": "execute_result"
    }
   ],
   "source": [
    "output_file_path"
   ]
  },
  {
   "cell_type": "code",
   "execution_count": 32,
   "metadata": {
    "collapsed": true
   },
   "outputs": [],
   "source": [
    "#Export response of all write steps (columns) for all pixels (rows) to one delimited text file for each read step\n",
    "output_file_path = '.'\n",
    "\n",
    "for dc_step_read in range(0,num_read_steps-1):\n",
    "    resp_mat = np.squeeze(Nd_mat[:,:,1,:,dc_step_read]['Amplitude [V]'] \n",
    "                          * np.cos(Nd_mat[:,:,1,:,dc_step_read]['Phase [rad]'])*1000)\n",
    "\n",
    "    resp_vec = np.reshape(resp_mat, (num_row*num_col, num_write_steps))\n",
    "    np.savetxt(output_file_path+'Response_at_Vread_'+str(bias_vec_r[0,dc_step_read])+'V.txt',resp_vec, fmt='%f', delimiter='\\t')\n",
    "\n",
    "np.savetxt(output_file_path+'Read_voltage_vec.txt', np.squeeze(bias_vec_r[0,:]), fmt='%f', delimiter='\\t')\n",
    "np.savetxt(output_file_path+'Write_voltage_vec.txt', np.squeeze(bias_vec_w[:]), fmt='%f', delimiter='\\t')"
   ]
  },
  {
   "cell_type": "markdown",
   "metadata": {},
   "source": [
    "# Computes the Low Rank Representation of the PE Loops"
   ]
  },
  {
   "cell_type": "code",
   "execution_count": 33,
   "metadata": {
    "collapsed": true
   },
   "outputs": [],
   "source": [
    "bad_pixels = np.where(Nd_mat[:,:,1,:,:]['Amplitude [V]'] == 0.001196895)\n",
    "\n",
    "loop_data = (Nd_mat[:,:,1,:,:]['Amplitude [V]'] *\n",
    "            np.cos(Nd_mat[:,:,1,:,:]['Phase [rad]']))\n",
    "\n",
    "loop_data[bad_pixels] = np.nan"
   ]
  },
  {
   "cell_type": "code",
   "execution_count": 34,
   "metadata": {
    "collapsed": true
   },
   "outputs": [],
   "source": [
    "from scipy import interpolate\n",
    "\n",
    "\n",
    "def Interpolate_missing_points(loop_data):\n",
    "    \"\"\"\n",
    "    Interpolates bad pixels in piezoelectric hystereis loops.\\n\n",
    "    The interpolation of missing points alows for machine learning operations\n",
    "\n",
    "    Parameters\n",
    "    ----------\n",
    "    loop_data : numpy array\n",
    "        arary of loops\n",
    "\n",
    "    Returns\n",
    "    -------\n",
    "    loop_data_cleaned : numpy array\n",
    "        arary of loops\n",
    "    \"\"\"\n",
    "\n",
    "    # Loops around the x index\n",
    "    for i in range(loop_data.shape[0]):\n",
    "\n",
    "        # Loops around the y index\n",
    "        for j in range(loop_data.shape[1]):\n",
    "\n",
    "            # Loops around the number of cycles\n",
    "            for k in range(loop_data.shape[3]):\n",
    "\n",
    "                if any(~np.isfinite(loop_data[i, j, :, k])):\n",
    "\n",
    "                    true_ind = np.where(~np.isnan(loop_data[i, j, :, k]))\n",
    "                    point_values = np.linspace(0, 1, loop_data.shape[2])\n",
    "                    spline = interpolate.InterpolatedUnivariateSpline(point_values[true_ind],\n",
    "                                                                      loop_data[i, j, true_ind, k].squeeze())\n",
    "                    ind = np.where(np.isnan(loop_data[i, j, :, k]))\n",
    "                    val = spline(point_values[ind])\n",
    "                    loop_data[i, j, ind, k] = val\n",
    "\n",
    "    return loop_data"
   ]
  },
  {
   "cell_type": "code",
   "execution_count": 35,
   "metadata": {
    "collapsed": true
   },
   "outputs": [],
   "source": [
    "loop_data_interp = Interpolate_missing_points(loop_data)"
   ]
  },
  {
   "cell_type": "code",
   "execution_count": 36,
   "metadata": {
    "collapsed": true
   },
   "outputs": [],
   "source": [
    "def Construct_Low_Rank_Representation(PC_Reconstruct, loop_data):\n",
    "\n",
    "    \"\"\"\n",
    "    Computes the low rank representation of the piezoelectric hystersis loops.\\n\n",
    "    Used for statistical denoising of data. Uses PCA as an autoencoder\n",
    "\n",
    "    Parameters\n",
    "    ----------\n",
    "    PC_Reconstruct : int\n",
    "        number of principal components to include\n",
    "    loop_data : numpy array\n",
    "        array of loops\n",
    "\n",
    "    Returns\n",
    "    -------\n",
    "    loop_data_low_rank_representation : numpy array\n",
    "        low rank representation of piezoelectric hysteresis loops\n",
    "    \"\"\" \n",
    "    \n",
    "    real_values = np.where(~np.all(loop_data_interp_resize == 0, axis=1))\n",
    "\n",
    "    # Sets the number of componets to save\n",
    "    pca = decomposition.PCA(n_components=PC_Reconstruct)\n",
    "\n",
    "    # Computes the PCA of the piezoelectric hysteresis loops\n",
    "    PCA_data = pca.fit(loop_data[real_values])\n",
    "    \n",
    "    PCA_reconstructed_data = np.zeros(loop_data.shape)\n",
    "\n",
    "    # Does the inverse tranform - creates a low rank representation of the data\n",
    "    PCA_reconstructed_data[real_values] = pca.inverse_transform(pca.transform(loop_data[real_values]))\n",
    "\n",
    "    return (PCA_data, PCA_reconstructed_data)"
   ]
  },
  {
   "cell_type": "code",
   "execution_count": 37,
   "metadata": {
    "collapsed": true
   },
   "outputs": [],
   "source": [
    "## Delete me and put me in the file\n",
    "\n",
    "# codes to import packages needed\n",
    "import os\n",
    "import glob\n",
    "import sys\n",
    "from os.path import join as pjoin\n",
    "import subprocess\n",
    "\n",
    "import numpy as np\n",
    "from scipy import (io, special, spatial,\n",
    "                   interpolate, integrate, optimize)\n",
    "\n",
    "import matplotlib\n",
    "from matplotlib import (pyplot as plt, animation, colors,\n",
    "                        ticker, path, patches, patheffects)\n",
    "\n",
    "from mpl_toolkits.axes_grid1 import make_axes_locatable\n",
    "\n",
    "simps = integrate.simps\n",
    "curve_fit = optimize.curve_fit\n",
    "Path = path.Path\n",
    "PathPatch = patches.PathPatch\n",
    "Convex_Hull = spatial.ConvexHull\n",
    "erf = special.erf\n",
    "\n",
    "from sklearn import (decomposition, preprocessing, cluster,\n",
    "                     preprocessing, cluster, metrics,\n",
    "                     model_selection, neighbors)\n",
    "\n",
    "import string\n",
    "\n",
    "import warnings\n",
    "warnings.simplefilter(\"ignore\")\n",
    "\n",
    "import plotly.plotly as py\n",
    "import plotly.graph_objs as go\n",
    "import plotly\n",
    "\n",
    "from mpl_toolkits.mplot3d import Axes3D\n",
    "\n",
    "simps = integrate.simps\n",
    "curve_fit = optimize.curve_fit\n",
    "Path = path.Path\n",
    "PathPatch = patches.PathPatch\n",
    "Convex_Hull = spatial.ConvexHull\n",
    "erf = special.erf\n",
    "ShuffleSplit = model_selection.ShuffleSplit\n",
    "KNeighborsClassifier = neighbors.KNeighborsClassifier"
   ]
  },
  {
   "cell_type": "markdown",
   "metadata": {},
   "source": [
    "## TODO \n",
    "add code that excludes points from PCA that are all 0"
   ]
  },
  {
   "cell_type": "code",
   "execution_count": 38,
   "metadata": {
    "collapsed": true
   },
   "outputs": [],
   "source": [
    "num_components = 30\n",
    "loop_data_interp_resize = np.swapaxes(loop_data_interp,2,3)\n",
    "loop_data_interp_resize = loop_data_interp_resize.reshape(loop_data_interp.shape[0],\n",
    "                                                          loop_data_interp.shape[1],\n",
    "                                                          loop_data_interp.shape[2]*\n",
    "                                                          loop_data_interp.shape[3])\n",
    "loop_data_interp_resize = np.rollaxis(loop_data_interp_resize,2)\n",
    "loop_data_interp_resize = loop_data_interp_resize.reshape(loop_data_interp_resize.shape[0],-1)\n",
    "loop_data_interp_resize = np.rollaxis(loop_data_interp_resize,1)\n",
    "\n",
    "\n",
    "\n",
    "PCA_data, PCA_reconstructed_data = Construct_Low_Rank_Representation(num_components,\n",
    "                                                           loop_data_interp_resize)"
   ]
  },
  {
   "cell_type": "code",
   "execution_count": 39,
   "metadata": {
    "collapsed": true
   },
   "outputs": [],
   "source": [
    "def plot_scree_and_hysteresis_loops(loop_data, PCA_data, pos=[0, 50], spread=False):\n",
    "    \"\"\"\n",
    "    Plots the skree plot and the piezoelectric hysteresis loops after PCA.\\n\n",
    "    This function can be used to explore points, can be used to plot the raw data, PCA,\n",
    "    and loop fit results.\n",
    "\n",
    "    Parameters\n",
    "    ----------\n",
    "    loop_data : numpy array\n",
    "        array containing all of the piezoelectric loops.\n",
    "    PCA_data : numpy array\n",
    "        array of the PCA reconstructed piezoelectric hysteresis loops.\n",
    "    Pos : numpy array (int)\n",
    "       selects the point on the hyperspectral image to plot the loops.\n",
    "    spread : bool\n",
    "        select if the loops should be plotted on a single plot or on a spread of plots.\n",
    "    \"\"\" \n",
    "\n",
    "    # makes a new folder\n",
    "    folder = pjoin(output_file_path, 'Scree_plots')\n",
    "    os.makedirs(folder, exist_ok=True)\n",
    "\n",
    "    # Sets the colors of the graphs\n",
    "    cmap = plt.cm.get_cmap('gnuplot')\n",
    "    color_values = np.linspace(0, 1, loop_data.shape[3])\n",
    "\n",
    "    # (User) selects the point of interest (inital [30,30])\n",
    "    (x, y) = pos\n",
    "    loop_of_interest = np.ravel_multi_index(\n",
    "        pos, (loop_data.shape[0], loop_data.shape[1]))\n",
    "    plot_loop_fit = False\n",
    "\n",
    "    if spread:\n",
    "        fig, axes = Layout_graphs_of_arb_number(loop_data.shape[3])\n",
    "    else:\n",
    "        fig, axes = Layout_graphs_of_arb_number(2)\n",
    "\n",
    "    # Plots the scree plot\n",
    "    axes[0].plot(np.linspace(1, PCA_data.n_components, PCA_data.n_components),\n",
    "                 np.cumsum(PCA_data.explained_variance_ratio_) * 100,\n",
    "                 '-ok')\n",
    "\n",
    "    # Formats the scree plot\n",
    "    axes[0].set_xlabel('Principal Component')\n",
    "    axes[0].set_ylabel('Variance Explained')\n",
    "    axes[0].set_xlim([0, num_components + 1])\n",
    "    axes[0].set_ylim([0, 100])\n",
    "\n",
    "    voltage_by_cycle = voltage_reshape[::2].reshape(loop_data.shape[3], -1)\n",
    "    PCA_reconstructed_by_cycle = PCA_reconstructed_data[loop_of_interest, :].reshape(\n",
    "        loop_data.shape[3], -1)\n",
    "    loop_data_interp_by_cycle = loop_data_interp_resize[\n",
    "        loop_of_interest, :].reshape(loop_data.shape[3], -1)\n",
    "\n",
    "    if spread:\n",
    "        for i in range(loop_data.shape[3]):\n",
    "            # plots an example of the raw and cleaned data\n",
    "            axes[i].plot(voltage_by_cycle[i],\n",
    "                         loop_data_interp_by_cycle[i], 'o')\n",
    "            axes[i].plot(voltage_by_cycle[i], PCA_reconstructed_by_cycle[i],\n",
    "                         color=cmap(color_values[i]), linewidth=2.0)\n",
    "    else:\n",
    "        # plots an example of the raw and cleaned data\n",
    "        axes[1].plot(voltage_reshape[::2],\n",
    "                     loop_data_interp_resize[loop_of_interest, :], 'o')\n",
    "        for i in range(loop_data.shape[3]):\n",
    "            axes[1].plot(voltage_by_cycle[i], PCA_reconstructed_by_cycle[i],\n",
    "                         color=cmap(color_values[i]), linewidth=2.0)\n",
    "\n",
    "    plot_loop_fit = False\n",
    "\n",
    "    if plot_loop_fit:\n",
    "\n",
    "        # Plots the piezoelectric hystereis loops and loop fits\n",
    "        plot_loop_and_fit(voltage_reshape[::2], loop_fit_results_caca[x, y],\n",
    "                          data['Loopdata_caca'][x, y], 'r', True)\n",
    "\n",
    "    \n",
    "\n",
    "    # Labels figures\n",
    "    for i, ax in enumerate(axes):\n",
    "        j_plot.labelfigs(ax, i, style='b')\n",
    "        if i >0:\n",
    "            # Formats the piezoelectric hysteresis loop plot\n",
    "            axes[i].set_ylabel('Piezorespones (Arb. U.)')\n",
    "            axes[i].set_xlabel('Voltage (V)')\n",
    "            axes[i].yaxis.get_major_formatter().set_powerlimits((0, 1))\n",
    "            axes[i].set_yticklabels('')\n",
    "\n",
    "    plt.tight_layout()"
   ]
  },
  {
   "cell_type": "code",
   "execution_count": 46,
   "metadata": {
    "collapsed": true
   },
   "outputs": [],
   "source": [
    "def Layout_graphs_of_arb_number(graph):\n",
    "    \"\"\"\n",
    "    Sets the layout of graphs in matplotlib in a pretty way based on the number of plots\n",
    "\n",
    "    Parameters\n",
    "    ----------\n",
    "    graphs : int\n",
    "        number of axes to make\n",
    "\n",
    "    Returns\n",
    "    -------\n",
    "    fig : matplotlib figure\n",
    "        handel to figure being created.\n",
    "    axes : numpy array (axes)\n",
    "        numpy array of axes that are created.\n",
    "    \"\"\"\n",
    "    \n",
    "    # Selects the number of columns to have in the graph\n",
    "    if graph < 3:\n",
    "        mod = 2\n",
    "    elif graph < 5:\n",
    "        mod = 3\n",
    "    elif graph < 10:\n",
    "        mod = 4\n",
    "    elif graph < 17:\n",
    "        mod = 5\n",
    "    elif graph < 26:\n",
    "        mod = 6\n",
    "    elif graph < 37:\n",
    "        mod = 7\n",
    "    \n",
    "    # builds the figure based on the number of graphs and selected number of columns\n",
    "    fig, axes = plt.subplots(graph // mod + (graph % mod > 0), mod,\n",
    "                             figsize=(3 * mod, 3 * (graph // mod + (graph % mod > 0))))\n",
    "    \n",
    "    # deletes extra unneeded axes\n",
    "    axes = axes.reshape(-1)\n",
    "    for i in range(axes.shape[0]):\n",
    "        if i + 1 > graph:\n",
    "            fig.delaxes(axes[i])\n",
    "\n",
    "    return (fig, axes)"
   ]
  },
  {
   "cell_type": "code",
   "execution_count": 47,
   "metadata": {},
   "outputs": [
    {
     "data": {
      "image/png": "[encoded data removed]",
      "text/plain": [
       "<matplotlib.figure.Figure at 0x7fefad4edba8>"
      ]
     },
     "metadata": {},
     "output_type": "display_data"
    }
   ],
   "source": [
    "plot_scree_and_hysteresis_loops(loop_data, PCA_data, pos = [50, 50],spread=True)"
   ]
  },
  {
   "cell_type": "code",
   "execution_count": 48,
   "metadata": {},
   "outputs": [
    {
     "data": {
      "image/png": "[encoded data removed]",
      "text/plain": [
       "<matplotlib.figure.Figure at 0x7fefe8fcbf98>"
      ]
     },
     "metadata": {},
     "output_type": "display_data"
    }
   ],
   "source": [
    "plot_scree_and_hysteresis_loops(loop_data, PCA_data, pos = [50, 50])"
   ]
  },
  {
   "cell_type": "code",
   "execution_count": 49,
   "metadata": {
    "collapsed": true
   },
   "outputs": [],
   "source": [
    "def Construct_Linear_Spline(PCA_reconstructed_data,\n",
    "                            convex_hull,\n",
    "                            voltage, start_value):\n",
    "\n",
    "    # Finds the start of the array\n",
    "    low_ind = np.argmin(convex_hull.vertices)\n",
    "\n",
    "    # Reorders the array to start at the begining\n",
    "    hull_ordered = np.append(convex_hull.vertices[low_ind::], convex_hull.vertices[0:low_ind])\n",
    "\n",
    "    # Finds the high and low index\n",
    "    high_ind = np.argmax(hull_ordered)\n",
    "    low_ind = np.argmin(hull_ordered)\n",
    "\n",
    "    # Computes the linear spline of the convex vertexes. Produces convex hull construction\n",
    "    convex_values = hull_ordered[0:high_ind + 1]\n",
    "    spline_fit = interpolate.interp1d(voltage[convex_values],\n",
    "                                      PCA_reconstructed_data[convex_values + start_value],\n",
    "                                      kind='linear')\n",
    "\n",
    "    return (spline_fit, convex_values)"
   ]
  },
  {
   "cell_type": "code",
   "execution_count": 50,
   "metadata": {
    "collapsed": true
   },
   "outputs": [],
   "source": [
    "def compute_convex_hull(voltage_top, voltage_bottom, PCA_reconstructed_data):\n",
    "\n",
    "    # Preallocates the matrix\n",
    "    convex_hull_diff = np.zeros(PCA_reconstructed_data.shape)\n",
    "    convex_hull_data = np.zeros(PCA_reconstructed_data.shape)\n",
    "\n",
    "    for i in range(PCA_reconstructed_data.shape[0]):\n",
    "\n",
    "        voltage_len = len(voltage_top) + len(voltage_bottom)\n",
    "\n",
    "        # Calculates the convex hull of the top and bottom branches\n",
    "        hull_top = Convex_Hull(np.vstack((voltage_top,\n",
    "                                          PCA_reconstructed_data[i, 0:voltage_len // 2])).T)\n",
    "        hull_bot = Convex_Hull(np.vstack((voltage_bottom,\n",
    "                                          PCA_reconstructed_data[i, voltage_len // 2:])).T)\n",
    "\n",
    "        # Calculates a linear spline for the convex hull\n",
    "        spline_fit_top, _ = Construct_Linear_Spline(PCA_reconstructed_data[i],\n",
    "                                                    hull_top,\n",
    "                                                    voltage_top,\n",
    "                                                    0)\n",
    "\n",
    "        spline_fit_bottom, _ = Construct_Linear_Spline(PCA_reconstructed_data[i],\n",
    "                                                       hull_bot,\n",
    "                                                       voltage_bottom,\n",
    "                                                       voltage_len // 2)\n",
    "\n",
    "        # Calculates the difference between the convex hull and piezoelectric hysteresis loop\n",
    "        convex_difference_top = np.abs(\n",
    "            PCA_reconstructed_data[i, 0:voltage_len // 2] - spline_fit_top(voltage_top))\n",
    "        convex_difference_bot = PCA_reconstructed_data[i,\n",
    "                                                       voltage_len // 2::] - spline_fit_bottom(voltage_bottom)\n",
    "\n",
    "        # Combines and saves the convex hull and difference as a single array\n",
    "        convex_hull_diff[i] = np.concatenate((convex_difference_top,\n",
    "                                              convex_difference_bot))\n",
    "        convex_hull_data[i] = np.concatenate((spline_fit_top(voltage_top),\n",
    "                                              spline_fit_bottom(voltage_bottom)))\n",
    "\n",
    "    return (convex_hull_data, convex_hull_diff)"
   ]
  },
  {
   "cell_type": "code",
   "execution_count": 93,
   "metadata": {
    "collapsed": true
   },
   "outputs": [],
   "source": [
    "def Top_bottom_split(voltage, response):\n",
    "    quart = np.int((voltage.shape[0]/4))\n",
    "    response_branch_1 = response[quart:quart*3]\n",
    "    response_branch_2 = np.concatenate((response[quart*3:],\n",
    "                                       response[0:quart]))\n",
    "    voltage_branch_1 = voltage[quart:quart*3]\n",
    "    voltage_branch_2 = np.concatenate((voltage[quart*3:],\n",
    "                                        voltage[0:quart]))\n",
    "    \n",
    "    branch_split = {}\n",
    "    \n",
    "    if np.mean(response_branch_1) > np.mean(response_branch_2):\n",
    "        branch_split['branch_top'] = 1\n",
    "        branch_split['response_top'] = response_branch_1\n",
    "        branch_split['voltage_top'] = voltage_branch_1\n",
    "        branch_split['response_bottom'] = response_branch_2\n",
    "        branch_split['voltage_bottom'] = voltage_branch_2\n",
    "    else:\n",
    "        branch_split['branch_top'] = 2\n",
    "        branch_split['response_top'] = response_branch_2\n",
    "        branch_split['voltage_top'] = voltage_branch_2\n",
    "        branch_split['response_bottom'] = response_branch_1\n",
    "        branch_split['voltage_bottom'] = voltage_branch_1\n",
    "        \n",
    "    return branch_split"
   ]
  },
  {
   "cell_type": "code",
   "execution_count": 53,
   "metadata": {},
   "outputs": [
    {
     "data": {
      "text/plain": [
       "[<matplotlib.lines.Line2D at 0x7ff01bb3e7b8>]"
      ]
     },
     "execution_count": 53,
     "metadata": {},
     "output_type": "execute_result"
    },
    {
     "data": {
      "image/png": "[encoded data removed]",
      "text/plain": [
       "<matplotlib.figure.Figure at 0x7fefe14ed2b0>"
      ]
     },
     "metadata": {},
     "output_type": "display_data"
    }
   ],
   "source": [
    "loop_of_interest = 2300\n",
    "a = voltage_reshape[::2].reshape(11,-1)\n",
    "loop_data_interp_by_cycle = loop_data_interp_resize[\n",
    "    loop_of_interest, :].reshape(loop_data.shape[3], -1)\n",
    "plt.plot(a[2])\n",
    "plt.plot(loop_data_interp_by_cycle[1])"
   ]
  },
  {
   "cell_type": "code",
   "execution_count": 63,
   "metadata": {},
   "outputs": [
    {
     "data": {
      "text/plain": [
       "(84,)"
      ]
     },
     "execution_count": 63,
     "metadata": {},
     "output_type": "execute_result"
    }
   ],
   "source": [
    "loop_data_interp_by_cycle[1].shape"
   ]
  },
  {
   "cell_type": "code",
   "execution_count": 1,
   "metadata": {},
   "outputs": [
    {
     "ename": "NameError",
     "evalue": "name 'np' is not defined",
     "output_type": "error",
     "traceback": [
      "\u001b[0;31m---------------------------------------------------------------------------\u001b[0m",
      "\u001b[0;31mNameError\u001b[0m                                 Traceback (most recent call last)",
      "\u001b[0;32m<ipython-input-1-d4555a7c6d2f>\u001b[0m in \u001b[0;36m<module>\u001b[0;34m()\u001b[0m\n\u001b[0;32m----> 1\u001b[0;31m \u001b[0mquart\u001b[0m \u001b[0;34m=\u001b[0m \u001b[0mnp\u001b[0m\u001b[0;34m.\u001b[0m\u001b[0mint\u001b[0m\u001b[0;34m(\u001b[0m\u001b[0;34m(\u001b[0m\u001b[0ma\u001b[0m\u001b[0;34m[\u001b[0m\u001b[0;36m1\u001b[0m\u001b[0;34m]\u001b[0m\u001b[0;34m.\u001b[0m\u001b[0mshape\u001b[0m\u001b[0;34m[\u001b[0m\u001b[0;36m0\u001b[0m\u001b[0;34m]\u001b[0m\u001b[0;34m/\u001b[0m\u001b[0;36m4\u001b[0m\u001b[0;34m)\u001b[0m\u001b[0;34m)\u001b[0m\u001b[0;34m\u001b[0m\u001b[0m\n\u001b[0m\u001b[1;32m      2\u001b[0m \u001b[0mplt\u001b[0m\u001b[0;34m.\u001b[0m\u001b[0mplot\u001b[0m\u001b[0;34m(\u001b[0m\u001b[0ma\u001b[0m\u001b[0;34m[\u001b[0m\u001b[0;36m1\u001b[0m\u001b[0;34m,\u001b[0m\u001b[0mquart\u001b[0m\u001b[0;34m:\u001b[0m\u001b[0mquart\u001b[0m\u001b[0;34m*\u001b[0m\u001b[0;36m3\u001b[0m\u001b[0;34m]\u001b[0m\u001b[0;34m)\u001b[0m\u001b[0;34m\u001b[0m\u001b[0m\n\u001b[1;32m      3\u001b[0m \u001b[0mplt\u001b[0m\u001b[0;34m.\u001b[0m\u001b[0mplot\u001b[0m\u001b[0;34m(\u001b[0m\u001b[0mnp\u001b[0m\u001b[0;34m.\u001b[0m\u001b[0mconcatenate\u001b[0m\u001b[0;34m(\u001b[0m\u001b[0;34m(\u001b[0m\u001b[0ma\u001b[0m\u001b[0;34m[\u001b[0m\u001b[0;36m1\u001b[0m\u001b[0;34m,\u001b[0m\u001b[0mquart\u001b[0m\u001b[0;34m*\u001b[0m\u001b[0;36m3\u001b[0m\u001b[0;34m:\u001b[0m\u001b[0;34m]\u001b[0m\u001b[0;34m,\u001b[0m\u001b[0ma\u001b[0m\u001b[0;34m[\u001b[0m\u001b[0;36m1\u001b[0m\u001b[0;34m,\u001b[0m\u001b[0;36m0\u001b[0m\u001b[0;34m:\u001b[0m\u001b[0mquart\u001b[0m\u001b[0;34m]\u001b[0m\u001b[0;34m)\u001b[0m\u001b[0;34m)\u001b[0m\u001b[0;34m)\u001b[0m\u001b[0;34m\u001b[0m\u001b[0m\n",
      "\u001b[0;31mNameError\u001b[0m: name 'np' is not defined"
     ]
    }
   ],
   "source": [
    "quart = np.int((a[1].shape[0]/4))\n",
    "plt.plot(a[1,quart:quart*3])\n",
    "plt.plot(np.concatenate((a[1,quart*3:],a[1,0:quart])))"
   ]
  },
  {
   "cell_type": "code",
   "execution_count": 92,
   "metadata": {},
   "outputs": [
    {
     "data": {
      "text/plain": [
       "array([ 1.        ,  0.94285714,  0.88571429,  0.82857143,  0.77142857,\n",
       "        0.71428571,  0.65714286,  0.6       ,  0.54285714,  0.48571429,\n",
       "        0.42857143,  0.37142857,  0.31428571,  0.25714286,  0.2       ,\n",
       "        0.14285714,  0.08571429,  0.02857143, -0.02857143, -0.08571429,\n",
       "       -0.14285714, -0.2       , -0.25714286, -0.31428571, -0.37142857,\n",
       "       -0.42857143, -0.48571429, -0.54285714, -0.6       , -0.65714286,\n",
       "       -0.71428571, -0.77142857, -0.82857143, -0.88571429, -0.94285714,\n",
       "       -1.        , -1.05714286, -1.11428571, -1.17142857, -1.22857143,\n",
       "       -1.28571429, -1.34285714])"
      ]
     },
     "execution_count": 92,
     "metadata": {},
     "output_type": "execute_result"
    }
   ],
   "source": [
    "blah[3]['voltage_top']"
   ]
  },
  {
   "cell_type": "code",
   "execution_count": 81,
   "metadata": {
    "collapsed": true
   },
   "outputs": [],
   "source": [
    "for i in range(11):    \n",
    "    blah[i] = Top_bottom_split(a[i], loop_data_interp_by_cycle[i])"
   ]
  },
  {
   "cell_type": "code",
   "execution_count": 97,
   "metadata": {},
   "outputs": [
    {
     "data": {
      "text/plain": [
       "[<matplotlib.lines.Line2D at 0x7fefb5c5ed68>]"
      ]
     },
     "execution_count": 97,
     "metadata": {},
     "output_type": "execute_result"
    },
    {
     "data": {
      "image/png": "[encoded data removed]",
      "text/plain": [
       "<matplotlib.figure.Figure at 0x7fefb5c60fd0>"
      ]
     },
     "metadata": {},
     "output_type": "display_data"
    }
   ],
   "source": [
    "plt.plot(blah[7]['voltage_top'],blah[7]['response_top'])\n",
    "plt.plot(blah[7]['voltage_bottom'],blah[7]['response_bottom'])\n",
    "\n"
   ]
  },
  {
   "cell_type": "markdown",
   "metadata": {},
   "source": [
    "## Display averaged response at 0 V read voltage\n",
    "\n",
    "The left figure shows response at 0 V read voltage averaged over the whole grid, the right figure shows response at 0 V read voltage averaged over the x- and y- range specified with sliders."
   ]
  },
  {
   "cell_type": "code",
   "execution_count": 28,
   "metadata": {
    "scrolled": false
   },
   "outputs": [
    {
     "data": {
      "application/vnd.jupyter.widget-view+json": {
       "model_id": "fd1ccb19301c45b4a64070c2096c39c7"
      }
     },
     "metadata": {},
     "output_type": "display_data"
    },
    {
     "data": {
      "application/vnd.jupyter.widget-view+json": {
       "model_id": "2ebe5dce6b114ec6b4d70b46c416ec19"
      }
     },
     "metadata": {},
     "output_type": "display_data"
    },
    {
     "data": {
      "image/png": "[encoded data removed]",
      "text/plain": [
       "<matplotlib.figure.Figure at 0x7f986a9c3e10>"
      ]
     },
     "metadata": {},
     "output_type": "display_data"
    }
   ],
   "source": [
    "# Plot response at 0 V read voltage averaged over all pixels\n",
    "global save_figure_0V\n",
    "\n",
    "save_figure_0V = False\n",
    "dc_step_read = np.where(bias_vec_r[0,:] == 0)[0]\n",
    "\n",
    "resp_mat_0Vr = np.squeeze(Nd_mat[:,:,1,:,dc_step_read]['Amplitude [V]'] \n",
    "                          * np.cos(Nd_mat[:,:,1,:,dc_step_read]['Phase [rad]'])*1000)\n",
    "\n",
    "# Calculate response at 0 V read voltage averaged over all pixels\n",
    "resp_0V_mean1 = np.nanmean(resp_mat_0Vr,axis = 0)\n",
    "resp_0V_std1 = np.nanstd(resp_mat_0Vr,axis = 0)\n",
    "resp_0V_mean = np.nanmean(resp_0V_mean1,axis = 0)\n",
    "resp_0V_std = np.nanstd(resp_0V_std1,axis = 0)\n",
    "\n",
    "\n",
    "def make_figure_resp0V(resp_0V_mean_range, resp_0V_std_range, x_range, y_range):\n",
    "    global save_figure_0V\n",
    "    \n",
    "    fig_r0V = plt.figure(figsize=(10,4))  \n",
    "    fig_r0V.clf()\n",
    "    fig_r0V.set_facecolor('white')\n",
    "    ax_plot = plt.subplot2grid((1, 2), (0, 0), colspan=1, rowspan=1)\n",
    "    ax_plot_range = plt.subplot2grid((1, 2), (0, 1), colspan=1, rowspan=1)\n",
    "    \n",
    "    ax_plot.plot(bias_vec_w[:], resp_0V_mean\n",
    "                 , '.-')\n",
    "    ax_plot.errorbar(bias_vec_w[:], resp_0V_mean, yerr = resp_0V_std, fmt = '.-')\n",
    "    \n",
    "    ax_plot.set_xlabel('Write voltage [V]', fontsize = 12)\n",
    "    ax_plot.set_ylabel('Response [a.u.]', fontsize = 12)\n",
    "    ax_plot.set_title('Averaged over whole map', fontsize = 12)\n",
    "    \n",
    "    ax_plot_range.errorbar(bias_vec_w[:], resp_0V_mean_range, yerr = resp_0V_std_range, fmt = '.-')\n",
    "    ax_plot_range.set_xlabel('Write voltage [V]', fontsize = 12)\n",
    "    ax_plot_range.set_ylabel('Response [a.u.]', fontsize = 12)\n",
    "    ax_plot_range.set_title('Averaged from x = '+str(x_range[0])+'-'+str(x_range[1])\n",
    "                            +', y = '+str(y_range[0])+'-'+str(y_range[1]), fontsize = 12)\n",
    "    \n",
    "    fig_r0V.tight_layout();\n",
    "    fig_r0V.suptitle('Spatially averaged response at read voltage = 0 V', y = 1.05, x=0.55, fontsize = 12)\n",
    "    \n",
    "    #save_figure_0V = True   \n",
    "    if save_figure_0V == True:\n",
    "        fig_r0V.savefig(output_file_path+'\\Response_0V_x'+str(x_range)+'_y'+str(y_range)+'.png', format='png')\n",
    "        fig_r0V.savefig(output_file_path+'\\Response_0V_x'+str(x_range)+'_y'+str(y_range)+'.eps', format='eps')\n",
    "        fig_r0V.savefig(output_file_path+'\\Response_0V_x'+str(x_range)+'_y'+str(y_range)+'.tif', format='tiff')\n",
    "        save_figure_0V = False\n",
    "        \n",
    "        \n",
    "        \n",
    "\n",
    "def update_xyrange(x_range, y_range):\n",
    "\n",
    "# Calculate response at 0 V read voltage averaged over selected pixels\n",
    "#     a=Nd_mat[x_range[0]:x_range[1], y_range[0]:y_range[1],1,:,dc_step_read]['Amplitude [V]']\n",
    "    \n",
    "    resp_mat_0Vr_range = np.squeeze(Nd_mat[y_range[0]:y_range[1], x_range[0]:x_range[1],1,:,dc_step_read]['Amplitude [V]']\n",
    "                                    *np.cos(Nd_mat[y_range[0]:y_range[1], x_range[0]:x_range[1],1,:,dc_step_read]['Phase [rad]'])*1000)\n",
    "    \n",
    "    resp_0V_mean1_range = np.nanmean(resp_mat_0Vr_range,axis = 0)\n",
    "    resp_0V_std1_range = np.nanstd(resp_mat_0Vr_range,axis = 0)\n",
    "    resp_0V_mean_range = np.nanmean(resp_0V_mean1_range,axis = 0)\n",
    "    resp_0V_std_range = np.nanstd(resp_0V_std1_range,axis = 0)\n",
    "\n",
    "    make_figure_resp0V(resp_0V_mean_range, resp_0V_std_range, x_range, y_range)\n",
    "                                          \n",
    "                                          \n",
    "x_range = widgets.IntRangeSlider(min = 0,max = num_col-1,step = 0.1,value = 0,\n",
    "                             description = 'x-range',continuous_update = False)\n",
    "\n",
    "y_range = widgets.IntRangeSlider(min = 0,max = num_col-1,step = 0.1,value = 0,\n",
    "                             description = 'y-range',continuous_update = False)\n",
    "\n",
    "widgets.interact(update_xyrange,x_range = x_range, y_range = y_range);\n",
    "\n",
    "\n",
    "\n",
    "def on_save_button_clicked_0V(b):\n",
    "    global save_figure_0V \n",
    "    save_figure_0V = True\n",
    "\n",
    "   \n",
    "    update_xyrange(x_range.value, y_range.value)\n",
    "\n",
    "button_0V = widgets.Button(description = 'Save figure')\n",
    "display(button_0V)\n",
    "button_0V.on_click(on_save_button_clicked_0V)"
   ]
  },
  {
   "cell_type": "markdown",
   "metadata": {},
   "source": [
    "## Display response, amplitude and phase data at 0 V read voltage for a single pixel\n",
    "\n",
    "Select the pixel of interest below by setting x_select and y_select to the desired coordinates."
   ]
  },
  {
   "cell_type": "code",
   "execution_count": 31,
   "metadata": {},
   "outputs": [
    {
     "data": {
      "image/png": "[encoded data removed]",
      "text/plain": [
       "<matplotlib.figure.Figure at 0x7f989999b240>"
      ]
     },
     "metadata": {},
     "output_type": "display_data"
    }
   ],
   "source": [
    "x_select = 30\n",
    "y_select = 40\n",
    "\n",
    "resp_mat_0Vr = np.squeeze(Nd_mat[:,:,1,:,dc_step_read]['Amplitude [V]'] \n",
    "                          * np.cos(Nd_mat[:,:,1,:,dc_step_read]['Phase [rad]'])*1000)\n",
    "amp_mat_0Vr = np.squeeze(Nd_mat[:,:,1,:,dc_step_read]['Amplitude [V]'])*1000\n",
    "phase_mat_0Vr = np.squeeze(Nd_mat[:,:,1,:,dc_step_read]['Phase [rad]'])\n",
    "\n",
    "\n",
    "fig_r0V = plt.figure(figsize=(12,4))  \n",
    "fig_r0V.clf()\n",
    "fig_r0V.set_facecolor('white')\n",
    "ax_resp = plt.subplot2grid((1, 3), (0, 0), colspan=1, rowspan=1)\n",
    "ax_amp = plt.subplot2grid((1, 3), (0, 1), colspan=1, rowspan=1)\n",
    "ax_phase = plt.subplot2grid((1, 3), (0, 2), colspan=1, rowspan=1)\n",
    "\n",
    "ax_resp.plot(bias_vec_w[:], resp_mat_0Vr[y_select, x_select, :],'.-')\n",
    "ax_resp.set_xlabel('Write voltage [V]', fontsize = 12)\n",
    "ax_resp.set_ylabel('Response [a.u.]', fontsize = 12)\n",
    "\n",
    "ax_amp.plot(bias_vec_w[:], amp_mat_0Vr[y_select, x_select, :],'.-')\n",
    "ax_amp.set_xlabel('Write voltage [V]', fontsize = 12)\n",
    "ax_amp.set_ylabel('Amplitude [a.u.]', fontsize = 12)\n",
    "\n",
    "ax_phase.plot(bias_vec_w[:], phase_mat_0Vr[y_select, x_select, :],'.-')\n",
    "ax_phase.set_xlabel('Write voltage [V]', fontsize = 12)\n",
    "ax_phase.set_ylabel('Phase [rad]', fontsize = 12)\n",
    "ax_phase.set_ylim([-4, 4])\n",
    "\n",
    "fig_r0V.tight_layout()"
   ]
  },
  {
   "cell_type": "markdown",
   "metadata": {},
   "source": [
    "## Display on-field loops for all read steps\n",
    "\n",
    "The figure shows on-field response vs. write voltage for all read voltages (color coded) averaged over the whole map."
   ]
  },
  {
   "cell_type": "code",
   "execution_count": 32,
   "metadata": {},
   "outputs": [
    {
     "name": "stderr",
     "output_type": "stream",
     "text": [
      "/home/josh/anaconda3/lib/python3.6/site-packages/pycroscopy/viz/plot_utils.py:289: UserWarning: Line names of different length compared to provided dataset\n",
      "  warn('Line names of different length compared to provided dataset')\n"
     ]
    },
    {
     "data": {
      "application/vnd.jupyter.widget-view+json": {
       "model_id": "fd0e3462cc3a4f82a8e3faff95a7b01a"
      }
     },
     "metadata": {},
     "output_type": "display_data"
    },
    {
     "data": {
      "image/png": "[encoded data removed]",
      "text/plain": [
       "<matplotlib.figure.Figure at 0x7f99ed97a9e8>"
      ]
     },
     "metadata": {},
     "output_type": "display_data"
    }
   ],
   "source": [
    "\n",
    "\n",
    "resp_mat_IF = np.squeeze(Nd_mat[:,:,0,:,:]['Amplitude [V]'] \n",
    "                          * np.cos(Nd_mat[:,:,0,:,:]['Phase [rad]'])*1000)\n",
    "\n",
    "# Calculate response at 0 V read voltage averaged over all pixels\n",
    "resp_IF_mean1 = np.nanmean(resp_mat_IF,axis = 0)\n",
    "resp_IF_std1 = np.nanstd(resp_mat_IF,axis = 0)\n",
    "resp_IF_mean = np.nanmean(resp_IF_mean1,axis = 0)\n",
    "resp_IF_std = np.nanstd(resp_IF_std1,axis = 0)\n",
    "\n",
    "bias_vec_w_graph = np.matlib.repmat(bias_vec_w,num_read_steps, 1)\n",
    "# print(resp_IF_mean.shape, resp_IF_std.shape, bias_vec_w_graph.shape)\n",
    "\n",
    "fig_IF = plt.figure(figsize=(6,6))  \n",
    "fig_IF.clf()\n",
    "fig_IF.set_facecolor('white')\n",
    "ax_plot = plt.subplot2grid((15, 5), (0, 0), colspan=5, rowspan=12)\n",
    "ax_colorbar = plt.subplot2grid((15, 5), (14, 0), colspan=5, rowspan=1)\n",
    "\n",
    "px.plot_utils.plot_line_family(ax_plot, np.transpose(bias_vec_w_graph), np.transpose(resp_IF_mean), line_names='None',label_prefix='Line', label_suffix='', cmap=plt.cm.jet)\n",
    "# ax_plot.plot(bias_vec_w[:], resp_IF_mean, '.-')\n",
    "# ax_plot.errorbar(bias_vec_w[:], resp_IF_mean, yerr = resp_IF_std, fmt = '.-')\n",
    "colorbar_mat = np.column_stack((range(0,num_read_steps),range(0,num_read_steps)))\n",
    "ax_colorbar.imshow(np.transpose(colorbar_mat[:,:]), cmap=plt.cm.jet, origin='lower', interpolation='none', aspect = 0.25)\n",
    "ax_colorbar.set_yticklabels('')\n",
    "\n",
    "\n",
    "\n",
    "\n",
    "ax_colorbar.tick_params(axis = 'y', left = 'off', right = 'off')\n",
    "\n",
    "\n",
    "\n",
    "# ax_colorbar.set_xlabel('Read step')\n",
    "    \n",
    "\n",
    "ax_plot.set_xlabel('Write voltage [V]', fontsize = 12)\n",
    "ax_plot.set_ylabel('In field response [a.u.]', fontsize = 12)\n",
    "ax_plot.set_title('Averaged over whole map', fontsize = 12)\n",
    "\n",
    "labels = list(range(num_read_steps))\n",
    "\n",
    "for i in range(0, num_read_steps-0, 1):\n",
    "    labels[i] = str(bias_vec_r[0,i])\n",
    "\n",
    "ax_colorbar.set_xticks(np.arange(num_read_steps))\n",
    "ax_colorbar.set_xticklabels(labels, fontsize = 10)\n",
    "\n",
    "ax_colorbar.set_xlabel('Read voltage [V]', fontsize = 12)\n",
    "# fig_IF.tight_layout();\n",
    "\n",
    "def on_save_button4_clicked(b):\n",
    "    \n",
    "    fig_IF.savefig(output_file_path+'\\IFresponse.png', format='png')\n",
    "    fig_IF.savefig(output_file_path+'\\IFresponse.eps', format='eps')\n",
    "    fig_IF.savefig(output_file_path+'\\IFresponse.tif', format='tiff')\n",
    "\n",
    "    \n",
    "    \n",
    "button4 = widgets.Button(description = 'Save figure')\n",
    "display(button4)\n",
    "button4.on_click(on_save_button4_clicked)"
   ]
  },
  {
   "cell_type": "markdown",
   "metadata": {},
   "source": [
    "## Calculate the jCPD\n",
    "\n",
    "The junction contact potential difference (jCPD) is extracted for each dc write voltage step by linear fitting of the response vs. read bias and calculating the x-intercept.\n",
    "\n",
    "If only a certain (linear) regime of the cKPFM curves should be fitted, set v_read_start_index and v_read_end_index to the first and last index of the data that should be considered for the fit."
   ]
  },
  {
   "cell_type": "code",
   "execution_count": null,
   "metadata": {
    "collapsed": true
   },
   "outputs": [],
   "source": [
    "#Calculate x intercept -> jCPD\n",
    "\n",
    "v_read_start_index = 0\n",
    "v_read_end_index = num_read_steps-1\n",
    "\n",
    "print('v_read_start_index = ', v_read_start_index, ', v_read_end_index = ', v_read_end_index)\n",
    "# resp_mat_r_all_all = Nd_mat[:,:,1,:,:]['Amplitude [V]'] * np.cos(Nd_mat[:,:,1,:,:]['Phase [rad]'])*1000\n",
    "resp_mat_r_all = Nd_mat[:,:,1,:,v_read_start_index : v_read_end_index+1]['Amplitude [V]'] * np.cos(Nd_mat[:,:,1,:,v_read_start_index : v_read_end_index+1]['Phase [rad]'])*1000\n",
    "\n",
    "\n",
    "# print(num_read_steps)\n",
    "# print(resp_mat_r_all.shape)\n",
    "# print('resp_mat_r_all', resp_mat_r_all[0,0,0,:])\n",
    "# print('resp_mat_r_all_all', resp_mat_r_all_all[0,0,0,:])\n",
    "\n",
    "fit_slope = np.zeros((num_col, num_row, num_write_steps))\n",
    "fit_yintercept = np.zeros((num_col, num_row, num_write_steps))\n",
    "jCPD_mat = np.zeros((num_col, num_row, num_write_steps))\n",
    "   \n",
    "print(bias_vec_r[1,v_read_start_index : v_read_end_index+1])\n",
    "# print(bias_vec_r[1,:])\n",
    "\n",
    "for row in range(num_row):\n",
    "    for col in range(num_col):\n",
    "        for vw in range(0,num_write_steps-1):\n",
    "            fit_coeff = np.polyfit(bias_vec_r[1,v_read_start_index : v_read_end_index+1], resp_mat_r_all[col, row, vw,:],1)\n",
    "            fit_slope[col, row, vw] = fit_coeff[0]\n",
    "            fit_yintercept[col, row, vw] = fit_coeff[1]\n",
    "            jCPD_mat[col, row, vw] = -fit_coeff[1]/ fit_coeff[0]\n",
    "            \n",
    "\n",
    "# fit_y = fit_coeff[0] * bias_vec_r[1,:] + fit_coeff[1]\n",
    "\n",
    "# row = 1\n",
    "# col = 1\n",
    "# vw = 10         \n",
    "# print(fit_slope[col, row, vw])\n",
    "# print(fit_yintercept[col, row, vw])\n",
    "# print(jCPD_mat[col ,row, vw])\n",
    "\n",
    "\n",
    "# plt.figure(1)\n",
    "# plt.plot(bias_vec_r[1,:],resp_mat_r_all[col, row, vw,:],'.-')\n",
    "# plt.plot(bias_vec_r[1,:],fit_y)\n",
    "# print(fit_coeff[0],fit_coeff[1],jCPD_mat[col, row, vw])\n",
    "#Filter outliers from jCPD matrix, (-> improve code)\n",
    "# for r in range(1, num_row):\n",
    "#     for c in range(1, num_col):\n",
    "#         for s in range(1, num_write_steps):\n",
    "#             if jCPD_mat[r-1, c-1, s-1] > 20 or jCPD_mat[r-1, c-1, s-1] < -20:\n",
    "# #                 jCPD_mat[r-1, c-1, s-1] = np.nan\n",
    "#                 jCPD_mat[r-1, c-1, s-1] = 0\n",
    "\n"
   ]
  },
  {
   "cell_type": "markdown",
   "metadata": {},
   "source": [
    "## Display jCPD data\n",
    "Figure shows\n",
    "\n",
    "- The jCPD map for the write voltage step selected with the slider\n",
    "- Graphs of jCPD cross sections along the selected x- and y- axes for the selected write voltage step"
   ]
  },
  {
   "cell_type": "code",
   "execution_count": null,
   "metadata": {
    "collapsed": true,
    "scrolled": false
   },
   "outputs": [],
   "source": [
    "global save_figure\n",
    "\n",
    "save_figure = False\n",
    "\n",
    "#Color scale minimum and maximum\n",
    "cmin = -0.2\n",
    "cmax = 0.02\n",
    "  \n",
    "def make_jCPD_figure(dc_step_write, x_select, y_select):    \n",
    "    global save_figure \n",
    "\n",
    "    fig2 = plt.figure(figsize=(14,8))  \n",
    "    fig2.set_facecolor('white')    \n",
    "    ax_jCPD_xcross_section = plt.subplot2grid((10, 10), (0, 7), colspan=4, rowspan=3)\n",
    "    plt.title('jCPD cross section at x ='+str(x_select), fontsize = 12)\n",
    "    \n",
    "    ax_jCPD_ycross_section = plt.subplot2grid((10, 10), (4, 7), colspan=4, rowspan=3)\n",
    "    plt.title('jCPD cross section at y ='+str(y_select), fontsize = 12)\n",
    "    \n",
    "    ax_jCPD_plot = plt.subplot2grid((10, 10), (0, 0), colspan=6, rowspan=7)\n",
    "    plt.title('jCPD [V] at write voltage = '+str(bias_vec_w[dc_step_write])+' V', fontsize = 12)\n",
    "    \n",
    "\n",
    "    \n",
    "    ax_jCPD_xcross_section.plot(range(num_col),jCPD_mat[:,x_select,dc_step_write],'.-')\n",
    "    ax_jCPD_xcross_section.set_xlabel('Pixel #', fontsize = 12)\n",
    "    ax_jCPD_xcross_section.set_ylabel('jCPD [V]', fontsize = 12)\n",
    "  \n",
    "    ax_jCPD_ycross_section.plot(range(num_row),jCPD_mat[y_select,:,dc_step_write],'.-')\n",
    "    ax_jCPD_ycross_section.set_xlabel('Pixel #', fontsize = 12)\n",
    "    ax_jCPD_ycross_section.set_ylabel('jCPD [V]', fontsize = 12)\n",
    "    \n",
    "#     co_b2 = ax_jCPD_plot.imshow(jCPD_mat[:,:,dc_step_write], \n",
    "#                                 cmap=px.plot_utils.cmap_jet_white_center(), \n",
    "#                                 origin='lower', interpolation='none', clim=(cmin, cmax));\n",
    "    co_b2 = ax_jCPD_plot.imshow(jCPD_mat[:,:,dc_step_write], \n",
    "                                cmap=px.plot_utils.cmap_jet_white_center(), \n",
    "                                origin='upper', interpolation='none');\n",
    "    cb2 = fig2.colorbar(co_b2)\n",
    "   \n",
    "    \n",
    "    if save_figure == True:\n",
    "        fig2.savefig(output_file_path+'jCPD_map_WriteStep'+str(dc_step_write)+'y'+str(row)+'.png', format='png')\n",
    "        fig2.savefig(output_file_path+'jCPD_map_WriteStep'+str(dc_step_write)+'y'+str(row)+'.eps', format='eps')\n",
    "        save_figure = False;\n",
    "\n",
    "    \n",
    "\n",
    "slider_dict = dict()      \n",
    "dc_step_write_slider = widgets.IntSlider(min = 0, max = num_write_steps-1, step = 1,value = 0,description='Write Step');\n",
    "x_slider = widgets.IntSlider(min = 0, max = num_col, step = 1, value = 0, description = 'x')\n",
    "y_slider = widgets.IntSlider(min = 0, max = num_row, step = 1, value = 0, description = 'y')\n",
    "\n",
    "widgets.interact(make_jCPD_figure, dc_step_write = dc_step_write_slider, x_select = x_slider, y_select = y_slider, **slider_dict); \n",
    "\n",
    "\n",
    "def on_save_button2_clicked(b):\n",
    "    global save_figure\n",
    "    save_figure = True \n",
    "    \n",
    "    dc_step_write = dc_step_write_slider.value\n",
    "    x_select = x_slider.value\n",
    "    y_select = y_slider.value\n",
    "     \n",
    "    make_jCPD_figure(dc_step_write, x_select, y_select)\n",
    "    \n",
    "    \n",
    "button2 = widgets.Button(description = 'Save figure')\n",
    "display(button2)\n",
    "button2.on_click(on_save_button2_clicked)"
   ]
  },
  {
   "cell_type": "markdown",
   "metadata": {},
   "source": [
    "## Display jCPD and fitting parameters\n",
    "\n",
    "Figure shows maps of\n",
    "- jCPD\n",
    "- slope\n",
    "- y-intercept\n",
    "\n",
    "for the write voltage step selected with slider."
   ]
  },
  {
   "cell_type": "code",
   "execution_count": null,
   "metadata": {
    "collapsed": true
   },
   "outputs": [],
   "source": [
    "global save_figure\n",
    "\n",
    "save_figure = False\n",
    "   \n",
    "cmin = -3\n",
    "cmax = 3\n",
    "  \n",
    "def make_fitting_figure(dc_step_write):    \n",
    "    global save_figure \n",
    "    fig3 = plt.figure(figsize=(10,3))  \n",
    "    fig3.set_facecolor('white')    \n",
    "    ax_jCPD_plot = plt.subplot(131)\n",
    "    ax_slope_plot = plt.subplot(132)\n",
    "    ax_yintercept_plot = plt.subplot(133)\n",
    "    ax_slope_plot.set_title('Slope [a.u.]', fontsize = 12)\n",
    "    \n",
    "    im3 = ax_jCPD_plot.imshow(jCPD_mat[:,:,dc_step_write], \n",
    "                                cmap=px.plot_utils.cmap_jet_white_center(), \n",
    "                                origin='upper', interpolation='none');\n",
    "    \n",
    "#     im3 = ax_jCPD_plot.imshow(jCPD_mat[:,:,dc_step_write], \n",
    "#                                 cmap=px.plot_utils.cmap_jet_white_center(), \n",
    "#                                 origin='upper', interpolation='none', clim=(cmin, cmax)); \n",
    "    \n",
    "    fig3.colorbar(im3, ax = ax_jCPD_plot)\n",
    "    ax_jCPD_plot.set_title('jCPD [V]', fontsize = 12)\n",
    "    \n",
    "    im = ax_slope_plot.imshow(fit_slope[:,:,dc_step_write], \n",
    "                                cmap=px.plot_utils.cmap_jet_white_center(), \n",
    "                                origin='upper', interpolation='none');\n",
    "       \n",
    "    fig3.colorbar(im, ax = ax_slope_plot)\n",
    "    \n",
    "    im2 = ax_yintercept_plot.imshow(fit_yintercept[:,:,dc_step_write], \n",
    "                                cmap=px.plot_utils.cmap_jet_white_center(), \n",
    "                                origin='upper', interpolation='none');\n",
    "    ax_yintercept_plot.set_title('y-intercept [a.u.]', fontsize = 12)\n",
    "    \n",
    "    fig3.colorbar(im2, ax = ax_yintercept_plot)\n",
    "    \n",
    "    #fig3.suptitle('Write voltage = '+str(bias_vec_w[dc_step_write])+' V', fontsize = 14, y = 1.06)\n",
    "    \n",
    "    fig3.suptitle('Write voltage = '+str(bias_vec_w[dc_step_write])+' V', fontsize = 14)\n",
    "    \n",
    "    \n",
    "#     fig3.add_subplot(132).text(2,11,'Write voltage = '+str(bias_vec_w[dc_step_write])+' V', fontsize = 14, orientation='vertical')\n",
    "    plt.tight_layout()\n",
    "    plt.subplots_adjust(top=0.8)\n",
    "    if save_figure == True:\n",
    "        fig3.savefig(output_file_path+'\\jCPD_map_WriteStep'+str(dc_step_write)+'.png', format='png')\n",
    "        fig3.savefig(output_file_path+'\\jCPD_map_WriteStep'+str(dc_step_write)+'.eps', format='eps')\n",
    "        fig3.savefig(output_file_path+'\\jCPD_map_WriteStep'+str(dc_step_write)+'.tif', format='tif')\n",
    "        save_figure = False;\n",
    "\n",
    "    \n",
    "slider_dict = dict()      \n",
    "dc_step_write_slider = widgets.IntSlider(min = 0, max = num_write_steps-1, step = 1, value = 0, description='Write Step');\n",
    "\n",
    "widgets.interact(make_fitting_figure, dc_step_write = dc_step_write_slider, **slider_dict); \n",
    "\n",
    "\n",
    "def on_save_button3_clicked(b):\n",
    "    global save_figure\n",
    "    save_figure = True \n",
    "    \n",
    "    dc_step_write = dc_step_write_slider.value\n",
    "#     x_select = x_slider.value\n",
    "#     y_select = y_slider.value\n",
    "     \n",
    "    make_fitting_figure(dc_step_write)\n",
    "    \n",
    "    \n",
    "button3 = widgets.Button(description = 'Save figure')\n",
    "display(button3)\n",
    "button3.on_click(on_save_button3_clicked)"
   ]
  },
  {
   "cell_type": "markdown",
   "metadata": {},
   "source": [
    "## jCPD plots\n",
    "\n",
    "- Left graph depicts the jCPD averaged over all pixels as a function of write voltage\n",
    "- Specify a pixel that jCPD data should be displayed from in graph on the right by setting x_select and y_select."
   ]
  },
  {
   "cell_type": "code",
   "execution_count": null,
   "metadata": {
    "collapsed": true
   },
   "outputs": [],
   "source": [
    "# specify x select and y select\n",
    "\n",
    "x_select = 8\n",
    "y_select = 2\n",
    "\n",
    "x_range2 = [0, num_col-1]\n",
    "y_range2 = [0, num_row-1]\n",
    "# x_range2[0] = 0\n",
    "# x_range2[1] = num_col-1\n",
    "# y_range2[0] = 0\n",
    "# y_range2[1] = num_row-1\n",
    "\n",
    "jCPD_mean1 = np.nanmean(jCPD_mat[y_range2[0]:y_range2[1], x_range2[0]:x_range2[1],:],axis = 0)\n",
    "jCPD_std1 = np.nanstd(jCPD_mat[y_range2[0]:y_range2[1], x_range2[0]:x_range2[1],:],axis = 0)\n",
    "jCPD_mean_w = np.nanmean(jCPD_mean1,axis = 0)\n",
    "jCPD_std_w = np.nanstd(jCPD_mean1,axis = 0)\n",
    "\n",
    "\n",
    "\n",
    "#jCPD_mean_w[2] = np.nan\n",
    "\n",
    "\n",
    "jCPD_mean_all = np.nanmean(jCPD_mean_w,axis = 0)\n",
    "jCPD_std_all = np.nanstd(jCPD_std_w,axis = 0)\n",
    "\n",
    "\n",
    "fig3 = plt.figure(figsize=(12,7))  \n",
    "fig3.set_facecolor('white')\n",
    "ax_jCPD_mean = plt.subplot2grid((10, 10), (0, 0), colspan=4, rowspan=5)\n",
    "ax_jCPD_xy = plt.subplot2grid((10, 10), (0, 5), colspan=4, rowspan=5)\n",
    "\n",
    "plt.title('Mean jCPD vs write voltage', fontsize = 12)\n",
    "# ax_jCPD_mean.errorbar(bias_vec_w, jCPD_mean_w, yerr = jCPD_std_w, fmt = '.-')\n",
    "ax_jCPD_mean.plot(bias_vec_w, jCPD_mean_w, '.-')\n",
    "ax_jCPD_mean.set_xlabel('Write voltage [V]', fontsize = 12)\n",
    "ax_jCPD_mean.set_ylabel('Mean jCPD [V]', fontsize = 12)\n",
    "# ax_jCPD_mean.set_ylim([-10,10])\n",
    "\n",
    "ax_jCPD_xy.plot(bias_vec_w, jCPD_mat[y_select,x_select, : ], '.-')\n",
    "ax_jCPD_xy.set_xlabel('Write voltage [V]', fontsize = 12)\n",
    "ax_jCPD_xy.set_ylabel('jCPD [V]', fontsize = 12)\n",
    "# ax_jCPD_xy.set_ylim([-10,15])\n",
    "plt.title('jCPD at x = '+str(x_select)+' y = '+str(y_select))\n",
    "\n",
    "print('jCPD averaged over all pixels and write voltage steps = '+ str(jCPD_mean_all)+' +/- '+str(jCPD_std_all)+' V')"
   ]
  },
  {
   "cell_type": "markdown",
   "metadata": {},
   "source": [
    "## PCA analysis\n",
    "\n",
    "### Singular value decomposition performed on raw data:"
   ]
  },
  {
   "cell_type": "code",
   "execution_count": null,
   "metadata": {
    "collapsed": true
   },
   "outputs": [],
   "source": [
    "# Do SVD on raw data\n",
    "print(h5_main.shape)\n",
    "SVD_data = px.svd_utils.doSVD(h5_main, num_comps = 40)\n"
   ]
  },
  {
   "cell_type": "markdown",
   "metadata": {},
   "source": [
    "### SVD on jCPD, slope, y-intercept data and response at 0 V read voltage:"
   ]
  },
  {
   "cell_type": "code",
   "execution_count": null,
   "metadata": {
    "collapsed": true
   },
   "outputs": [],
   "source": [
    "# Do SVD on jCPD, slope and y-intercept data\n",
    "\n",
    "from sklearn.utils.extmath import randomized_svd\n",
    "\n",
    "num_components = 20;\n",
    "\n",
    "# # #Filter outliers from jCPD matrix, (-> improve code)\n",
    "# # for r in range(1, num_row):\n",
    "# #     for c in range(1, num_col):\n",
    "# #         for s in range(1, num_write_steps):\n",
    "# #             if jCPD_mat[r-1, c-1, s-1] > 5 or jCPD_mat[r-1, c-1, s-1] < -5:\n",
    "# #                 jCPD_mat[r-1, c-1, s-1] = np.nan\n",
    "# # #                 jCPD_mat[r-1, c-1, s-1] = 0\n",
    "\n",
    "\n",
    "\n",
    "x_delete = np.array([])\n",
    "y_delete = np.array([])\n",
    "\n",
    "\n",
    "\n",
    "index_delete = (num_col)*y_delete+x_delete\n",
    "\n",
    "\n",
    "\n",
    "jCPD_mat_SVD = np.reshape(jCPD_mat,(num_row*num_col, num_write_steps))\n",
    "\n",
    "nan_pos = np.squeeze((np.argwhere(np.isnan(jCPD_mat_SVD).any(axis=1))))\n",
    "index_delete = np.insert(index_delete, index_delete.shape[0], nan_pos, axis = 0)\n",
    "\n",
    "index_delete = -np.sort(-index_delete)\n",
    "\n",
    "\n",
    "\n",
    "\n",
    "jCPD_mat_SVD_clean = jCPD_mat_SVD\n",
    "\n",
    "for i in range(0,index_delete.shape[0]):\n",
    "    jCPD_mat_SVD_clean = np.delete(jCPD_mat_SVD_clean, index_delete[i], axis = 0)\n",
    "\n",
    "U_SVD_jCPD, S_SVD_jCPD, V_SVD_jCPD = randomized_svd(jCPD_mat_SVD_clean, n_components = num_components)\n",
    "\n",
    "\n",
    "index_delete = np.sort(index_delete)\n",
    "\n",
    "for i in range(0,index_delete.shape[0]):\n",
    "    U_SVD_jCPD = np.insert(U_SVD_jCPD, index_delete[i], np.nan ,axis = 0)\n",
    "    print(i,index_delete[i])\n",
    "    \n",
    "print(U_SVD_jCPD.shape)\n",
    "\n",
    "\n",
    "slope_mat_SVD = np.reshape(fit_slope,(num_row*num_col, num_write_steps))\n",
    "U_SVD_slope, S_SVD_slope, V_SVD_slope = randomized_svd(slope_mat_SVD, n_components = num_components)\n",
    "\n",
    "yintercept_mat_SVD = np.reshape(fit_yintercept,(num_row*num_col, num_write_steps))\n",
    "U_SVD_yintercept, S_SVD_yintercept, V_SVD_yintercept = randomized_svd(yintercept_mat_SVD, n_components = num_components)\n",
    "\n",
    "\n",
    "# Do SVD on cKPFM signal at 0 V read voltage (= PFM)\n",
    "dc_step_read = np.where(bias_vec_r[0,:] == 0)[0]\n",
    "\n",
    "resp_mat_0Vr = np.squeeze(Nd_mat[:,:,1,:,dc_step_read]['Amplitude [V]'] \n",
    "                          * np.cos(Nd_mat[:,:,1,:,dc_step_read]['Phase [rad]'])*1000)\n",
    "\n",
    "resp_mat_0Vr = np.reshape(resp_mat_0Vr,(num_row*num_col, num_write_steps))\n",
    "U_SVD_resp0Vr, S_SVD_resp0Vr, V_SVD_resp0Vr = randomized_svd(resp_mat_0Vr, n_components = num_components)\n",
    "\n"
   ]
  },
  {
   "cell_type": "markdown",
   "metadata": {},
   "source": [
    "### Display SVD score maps and eigenvectors of jCPD data:"
   ]
  },
  {
   "cell_type": "code",
   "execution_count": null,
   "metadata": {
    "collapsed": true,
    "scrolled": false
   },
   "outputs": [],
   "source": [
    "# Visualize PCA of jCPD data\n",
    "\n",
    "U_SVD_jCPD = np.reshape(U_SVD_jCPD,(num_row, num_col, num_components))\n",
    "print(U_SVD_jCPD.shape)\n",
    "\n",
    "fig5 = plt.figure(figsize=(12,12))\n",
    "fig5.clf()\n",
    "fig5.set_facecolor('white')    \n",
    "\n",
    "n_components = 20\n",
    "\n",
    "for component in range(1, n_components+1):\n",
    "    \n",
    "\n",
    "    ax_SVD_plot = plt.subplot(5, 4, component)\n",
    "    image = ax_SVD_plot.imshow(U_SVD_jCPD[:,:,component-1], cmap=px.plot_utils.cmap_jet_white_center(), \n",
    "                               origin='upper', interpolation='none');\n",
    "    ax_SVD_plot.set_title('#'+str(component), fontsize = 10)\n",
    "    \n",
    "    fig5.colorbar(image, ax = ax_SVD_plot)\n",
    "    \n",
    "fig5.suptitle('PCA scores of jCPD data', weight = 'bold', fontsize = 12, y=1)\n",
    "fig5.tight_layout()\n",
    "\n",
    "\n",
    "\n",
    "fig55 = plt.figure(figsize=(12,12))\n",
    "fig55.clf()\n",
    "fig55.set_facecolor('white')\n",
    "\n",
    "for component in range(1, n_components+1):\n",
    "    ax_SVD_plot = plt.subplot(5, 4, component)\n",
    "    image = ax_SVD_plot.plot(bias_vec_w, V_SVD_jCPD[component-1,:],'.-');\n",
    "    ax_SVD_plot.set_title('#'+str(component), fontsize = 10)\n",
    "    ax_SVD_plot.set_xlabel('Write voltage [V]')\n",
    "\n",
    "\n",
    "fig55.suptitle('PCA eigenvectors of jCPD data', weight = 'bold', fontsize = 12, y=1);\n",
    "\n",
    "fig55.tight_layout()\n",
    "\n",
    "\n",
    "def on_save_button4_clicked(b):\n",
    "   \n",
    "    fig5.savefig(output_file_path+'\\PCA_jCPD_scores.png', format='png')\n",
    "    fig5.savefig(output_file_path+'\\PCA_jCPD_scores.eps', format='eps')\n",
    "    fig5.savefig(output_file_path+'\\PCA_jCPD_scores.tif', format='tif')\n",
    "    fig55.savefig(output_file_path+'\\PCA_jCPD_ev.png', format='png')\n",
    "    fig55.savefig(output_file_path+'\\PCA_jCPD_ev.eps', format='eps')\n",
    "    fig55.savefig(output_file_path+'\\PCA_jCPD_ev.tif', format='tif')\n",
    "\n",
    "    \n",
    "button4 = widgets.Button(description = 'Save figure')\n",
    "display(button4)\n",
    "button4.on_click(on_save_button4_clicked)\n",
    "\n",
    "\n"
   ]
  },
  {
   "cell_type": "markdown",
   "metadata": {},
   "source": [
    "### Display SVD score maps and eigenvectors of slope data:"
   ]
  },
  {
   "cell_type": "code",
   "execution_count": null,
   "metadata": {
    "collapsed": true,
    "scrolled": false
   },
   "outputs": [],
   "source": [
    "# Visualize PCA of slope data\n",
    "\n",
    "U_SVD_slope = np.reshape(U_SVD_slope,(num_row, num_col, num_components))\n",
    "\n",
    "fig6 = plt.figure(figsize=(12,12))\n",
    "fig6.clf()\n",
    "fig6.set_facecolor('white')    \n",
    "\n",
    "n_components = 20\n",
    "\n",
    "for component in range(1, n_components+1):\n",
    "    \n",
    "\n",
    "    ax_SVD_plot = plt.subplot(5, 4, component)\n",
    "    image = ax_SVD_plot.imshow(U_SVD_slope[:,:,component-1], cmap=px.plot_utils.cmap_jet_white_center(), \n",
    "                               origin='upper', interpolation='none');\n",
    "    ax_SVD_plot.set_title('#'+str(component), fontsize = 10)\n",
    "    fig6.colorbar(image, ax = ax_SVD_plot)\n",
    "    \n",
    "fig6.tight_layout()\n",
    "fig6.suptitle('PCA scores of slope data', weight = 'bold', fontsize = 12, y = 1);\n",
    "\n",
    "\n",
    "fig66 = plt.figure(figsize=(12,12))\n",
    "fig66.clf()\n",
    "fig66.set_facecolor('white')\n",
    "\n",
    "for component in range(1, n_components+1):\n",
    "    ax_SVD_plot = plt.subplot(5, 4, component)\n",
    "    image = ax_SVD_plot.plot(bias_vec_w, V_SVD_slope[component-1,:],'.-');\n",
    "    ax_SVD_plot.set_title('#'+str(component), fontsize = 10)\n",
    "    ax_SVD_plot.set_xlabel('Write voltage [V]')\n",
    "fig66.tight_layout()\n",
    "\n",
    "fig66.suptitle('PCA eigenvectors of slope data', weight = 'bold', fontsize = 12, y = 1);\n",
    "\n",
    "def on_save_button5_clicked(b):\n",
    "   \n",
    "    fig6.savefig(output_file_path+'\\PCA_slope_scores.png', format='png')\n",
    "    fig6.savefig(output_file_path+'\\PCA_slope_scores.eps', format='eps')\n",
    "    fig6.savefig(output_file_path+'\\PCA_slope_scores.tif', format='tif')\n",
    "    fig66.savefig(output_file_path+'\\PCA_slope_ev.png', format='png')\n",
    "    fig66.savefig(output_file_path+'\\PCA_slope_ev.eps', format='eps')\n",
    "    fig66.savefig(output_file_path+'\\PCA_slope_ev.tif', format='tif')\n",
    "\n",
    "    \n",
    "button5 = widgets.Button(description = 'Save figure')\n",
    "display(button5)\n",
    "button5.on_click(on_save_button5_clicked)"
   ]
  },
  {
   "cell_type": "markdown",
   "metadata": {},
   "source": [
    "### Display SVD score maps and eigenvectors of y-intercept data:"
   ]
  },
  {
   "cell_type": "code",
   "execution_count": null,
   "metadata": {
    "collapsed": true,
    "scrolled": false
   },
   "outputs": [],
   "source": [
    "# Visualize PCA of y-intercept data\n",
    "\n",
    "U_SVD_yintercept = np.reshape(U_SVD_yintercept,(num_row, num_col, num_components))\n",
    "\n",
    "fig7 = plt.figure(figsize=(12,12))\n",
    "fig7.clf()\n",
    "fig7.set_facecolor('white')    \n",
    "\n",
    "n_components = 20\n",
    "\n",
    "for component in range(1, n_components+1):\n",
    "    \n",
    "\n",
    "    ax_SVD_plot = plt.subplot(5, 4, component)\n",
    "    image = ax_SVD_plot.imshow(U_SVD_yintercept[:,:,component-1], cmap=px.plot_utils.cmap_jet_white_center(), \n",
    "                               origin='upper', interpolation='none');\n",
    "    ax_SVD_plot.set_title('#'+str(component), fontsize = 10)\n",
    "    \n",
    "    fig7.colorbar(image, ax = ax_SVD_plot)\n",
    "    \n",
    "\n",
    "fig7.tight_layout()\n",
    "\n",
    "fig7.suptitle('PCA scores of y-intercept data', weight = 'bold', fontsize = 12, y = 1);\n",
    "\n",
    "fig77 = plt.figure(figsize=(12,12))\n",
    "fig77.clf()\n",
    "fig77.set_facecolor('white')\n",
    "\n",
    "for component in range(1, n_components+1):\n",
    "    ax_SVD_plot = plt.subplot(5, 4, component)\n",
    "    image = ax_SVD_plot.plot(bias_vec_w, V_SVD_yintercept[component-1,:],'.-');\n",
    "    ax_SVD_plot.set_title('#'+str(component), fontsize = 10)\n",
    "    ax_SVD_plot.set_xlabel('Write voltage [V]')\n",
    "fig77.tight_layout()\n",
    "\n",
    "fig77.suptitle('PCA eigenvectors of y-intercept data', weight = 'bold', fontsize = 12, y = 1);\n",
    "\n",
    "def on_save_button6_clicked(b):\n",
    "   \n",
    "    fig7.savefig(output_file_path+'\\PCA_yintercept_scores.png', format='png')\n",
    "    fig7.savefig(output_file_path+'\\PCA_yintercept_scores.eps', format='eps')\n",
    "    fig7.savefig(output_file_path+'\\PCA_yintercept_scores.tif', format='tif')\n",
    "    fig77.savefig(output_file_path+'\\PCA_yintercept_ev.png', format='png')\n",
    "    fig77.savefig(output_file_path+'\\PCA_yintercept_ev.eps', format='eps')\n",
    "    fig77.savefig(output_file_path+'\\PCA_yintercept_ev.tif', format='tif')\n",
    "\n",
    "    \n",
    "button6 = widgets.Button(description = 'Save figure')\n",
    "display(button6)\n",
    "button6.on_click(on_save_button6_clicked)"
   ]
  },
  {
   "cell_type": "markdown",
   "metadata": {},
   "source": [
    "### Display SVD score maps and eigenvectors of response at 0 V read voltage:"
   ]
  },
  {
   "cell_type": "code",
   "execution_count": null,
   "metadata": {
    "collapsed": true,
    "scrolled": false
   },
   "outputs": [],
   "source": [
    "# Visualize PCA of response at 0 V read voltage\n",
    "\n",
    "U_SVD_resp0Vr = np.reshape(U_SVD_resp0Vr,(num_row, num_col, num_components))\n",
    "\n",
    "fig8 = plt.figure(figsize=(12,12))\n",
    "fig8.clf()\n",
    "fig8.set_facecolor('white')    \n",
    "\n",
    "n_components = 20\n",
    "\n",
    "\n",
    "for component in range(1, n_components+1):\n",
    "    \n",
    "\n",
    "    ax_SVD_plot = plt.subplot(5, 4, component)\n",
    "    image = ax_SVD_plot.imshow(U_SVD_resp0Vr[:,:,component-1], cmap=px.plot_utils.cmap_jet_white_center(), \n",
    "                               origin='upper', interpolation='none');\n",
    "    ax_SVD_plot.set_title('#'+str(component), fontsize = 10)\n",
    "    fig8.colorbar(image, ax = ax_SVD_plot)\n",
    "    \n",
    "\n",
    "fig8.tight_layout()\n",
    "\n",
    "fig8.suptitle('PCA scores of response at V$_{read}$ = 0 V', weight = 'bold', fontsize = 12, y = 1);\n",
    "\n",
    "fig88 = plt.figure(figsize=(12,12))\n",
    "fig88.clf()\n",
    "fig88.set_facecolor('white')\n",
    "\n",
    "for component in range(1, n_components+1):\n",
    "    ax_SVD_plot = plt.subplot(5, 4, component)\n",
    "    image = ax_SVD_plot.plot(bias_vec_w, V_SVD_resp0Vr[component-1,:],'.-');\n",
    "    ax_SVD_plot.set_xlabel('Write voltage [V]')\n",
    "    ax_SVD_plot.set_title('#'+str(component), fontsize = 10)\n",
    "fig88.tight_layout()\n",
    "\n",
    "fig88.suptitle('PCA eigenvectors of response at V$_{read}$ = 0 V', weight = 'bold', fontsize = 12, y = 1);\n",
    "\n",
    "def on_save_button7_clicked(b):\n",
    "   \n",
    "    fig8.savefig(output_file_path+'\\PCA_resp0V_scores.png', format='png')\n",
    "    fig8.savefig(output_file_path+'\\PCA_resp0V_scores.eps', format='eps')\n",
    "    fig8.savefig(output_file_path+'\\PCA_resp0V_scores.tif', format='tif')\n",
    "    fig88.savefig(output_file_path+'\\PCA_resp0V_ev.png', format='png')\n",
    "    fig88.savefig(output_file_path+'\\PCA_resp0V_ev.eps', format='eps')\n",
    "    fig88.savefig(output_file_path+'\\PCA_resp0V_ev.tif', format='tif')\n",
    "\n",
    "    \n",
    "button7 = widgets.Button(description = 'Save figure')\n",
    "display(button7)\n",
    "button7.on_click(on_save_button7_clicked)"
   ]
  },
  {
   "cell_type": "markdown",
   "metadata": {},
   "source": [
    "### Display SVD score maps and eigenvectors of raw data:"
   ]
  },
  {
   "cell_type": "code",
   "execution_count": null,
   "metadata": {
    "collapsed": true,
    "scrolled": false
   },
   "outputs": [],
   "source": [
    "# Visualize PCA of raw data\n",
    "\n",
    "S_mat = SVD_data['S'][:]\n",
    "U_mat = SVD_data['U'][:]\n",
    "V_mat = SVD_data['V'][:]\n",
    "\n",
    "U_mat = np.reshape(U_mat,(num_row, num_col, 40))\n",
    "\n",
    "fig4 = plt.figure(figsize=(12,20))\n",
    "fig4.clf()\n",
    "fig4.set_facecolor('white')    \n",
    "\n",
    "n_components = 40\n",
    "for component in range(1, n_components+1):\n",
    "    ax_SVD_plot = plt.subplot(10, 4, component)\n",
    "    \n",
    "    image = ax_SVD_plot.imshow(U_mat[:,:,component-1], \n",
    "                            cmap=px.plot_utils.cmap_jet_white_center(), \n",
    "                            origin='upper', interpolation='none');\n",
    "    ax_SVD_plot.set_title('#'+str(component), fontsize = 10)\n",
    "    fig4.colorbar(image, ax = ax_SVD_plot)\n",
    "    \n",
    "fig4.tight_layout()\n",
    "\n",
    "\n",
    "fig4.suptitle('PCA scores of raw data', weight = 'bold', fontsize = 12, y = 1);\n",
    "\n",
    "\n",
    "fig44 = plt.figure(figsize=(12,20))\n",
    "fig44.clf()\n",
    "fig44.set_facecolor('white')\n",
    "\n",
    "for component in range(1, n_components+1):\n",
    "    ax_SVD_plot = plt.subplot(10, 4, component)\n",
    "    image = ax_SVD_plot.plot(V_mat[component-1,:],'.-');\n",
    "    ax_SVD_plot.set_title('#'+str(component), fontsize = 10)\n",
    "fig44.tight_layout()\n",
    "\n",
    "fig44.suptitle('PCA eigenvectors of of raw data', weight = 'bold', fontsize = 12, y = 1);\n",
    "\n",
    "def on_save_button8_clicked(b):\n",
    "   \n",
    "    fig4.savefig(output_file_path+'\\PCA_rawdata_scores.png', format='png')\n",
    "    fig4.savefig(output_file_path+'\\PCA_rawdata_scores.eps', format='eps')\n",
    "    fig4.savefig(output_file_path+'\\PCA_rawdata_scores.tif', format='tif')\n",
    "    fig44.savefig(output_file_path+'\\PCA_rawdata_ev.png', format='png')\n",
    "    fig44.savefig(output_file_path+'\\PCA_rawdata_ev.eps', format='eps')\n",
    "    fig44.savefig(output_file_path+'\\PCA_rawdata_ev.tif', format='tif')\n",
    "\n",
    "    \n",
    "button8 = widgets.Button(description = 'Save figure')\n",
    "display(button8)\n",
    "button8.on_click(on_save_button8_clicked)"
   ]
  },
  {
   "cell_type": "markdown",
   "metadata": {},
   "source": [
    "# BEPS/ FORC viewer"
   ]
  },
  {
   "cell_type": "code",
   "execution_count": null,
   "metadata": {
    "collapsed": true,
    "scrolled": false
   },
   "outputs": [],
   "source": [
    "global count\n",
    "count = 0\n",
    "cycle = 0\n",
    "dc_step_write = 0\n",
    "step_chan = 'DC_Offset'\n",
    "\n",
    "guess_3d_data, success = px.hdf_utils.reshape_to_Ndims(h5_sho_fit)\n",
    "h5_sho_spec_inds = px.hdf_utils.getAuxData(h5_sho_fit, auxDataName='Spectroscopic_Indices')[0]\n",
    "h5_sho_spec_vals = px.hdf_utils.getAuxData(h5_sho_fit, auxDataName='Spectroscopic_Values')[0]\n",
    "\n",
    "print(h5_sho_spec_vals.shape)\n",
    "spec_nd, _ = px.hdf_utils.reshape_to_Ndims(h5_sho_spec_inds, h5_spec=h5_sho_spec_inds)\n",
    "\n",
    "spec_nd, _ = px.hdf_utils.reshape_to_Ndims(h5_sho_spec_inds, h5_spec=h5_sho_spec_inds)\n",
    "# sho_spec_sort = get_sort_order(h5_sho_spec_inds)\n",
    "sho_spec_dims = np.array(spec_nd.shape[1:])\n",
    "sho_spec_labels = h5_sho_spec_inds.attrs['labels']\n",
    "\n",
    "h5_pos_inds = px.hdf_utils.getAuxData(h5_sho_fit, auxDataName='Position_Indices')[-1];\n",
    "pos_nd, _ = px.hdf_utils.reshape_to_Ndims(h5_pos_inds, h5_pos=h5_pos_inds)\n",
    "pos_dims = list(pos_nd.shape[:h5_pos_inds.shape[1]])\n",
    "pos_labels = h5_pos_inds.attrs['labels']\n",
    "\n",
    "# reshape to X, Y, step, all others\n",
    "spec_step_dim_ind = np.where(sho_spec_labels == step_chan)[0][0]\n",
    "step_dim_ind = len(pos_dims) + spec_step_dim_ind\n",
    "\n",
    "# move the step dimension to be the first after all position dimensions\n",
    "rest_sho_dim_order = range(len(pos_dims), len(guess_3d_data.shape))\n",
    "rest_sho_dim_order.remove(step_dim_ind)\n",
    "new_order = range(len(pos_dims)) + [step_dim_ind] + rest_sho_dim_order\n",
    "\n",
    "# Transpose the 3D dataset to this shape:\n",
    "sho_guess_Nd_1 = np.transpose(guess_3d_data, new_order)\n",
    "\n",
    "# Now move the step dimension to the front for the spec labels as well\n",
    "new_spec_order = range(len(sho_spec_labels))\n",
    "new_spec_order.remove(spec_step_dim_ind)\n",
    "new_spec_order = [spec_step_dim_ind] + new_spec_order\n",
    "\n",
    "# new_spec_labels = sho_spec_labels[new_spec_order]\n",
    "new_spec_dims = np.array(sho_spec_dims)[new_spec_order]\n",
    "\n",
    "# Now collapse all additional dimensions\n",
    "final_guess_shape = pos_dims + [new_spec_dims[0]] + [-1]\n",
    "sho_dset_collapsed = np.reshape(sho_guess_Nd_1, final_guess_shape)\n",
    "\n",
    "# Get the bias matrix:\n",
    "bias_mat, _ = px.hdf_utils.reshape_to_Ndims(h5_sho_spec_vals, h5_spec=h5_sho_spec_inds)\n",
    "bias_mat = np.transpose(bias_mat[spec_step_dim_ind], new_spec_order).reshape(sho_dset_collapsed.\n",
    "                                                                             shape[len(pos_dims):])\n",
    "bias_mat = bias_mat*high_voltage_amplf\n",
    "\n",
    "num_read_steps = sho_dset_collapsed.shape[1]\n",
    "num_write_steps = sho_dset_collapsed.shape[2]\n",
    "num_row = sho_dset_collapsed.shape[1]\n",
    "num_col = sho_dset_collapsed.shape[0]\n",
    "\n",
    "print(sho_dset_collapsed.shape)\n",
    "print('bias mat shape', bias_mat.shape)\n",
    "\n",
    "num_loops = bias_mat.shape[1]\n",
    "num_loops_h = int(num_loops/2)\n",
    "# plt.figure()\n",
    "# plt.plot(bias_mat[:,:]);\n",
    "\n",
    "\n",
    "\n",
    "# print(sho_dset_collapsed.attrs)\n",
    "# print(getattr(obj))\n",
    "\n",
    "amp_map = sho_dset_collapsed[:, :, dc_step_write, cycle]['Amplitude [V]']*1000\n",
    "phase_map = sho_dset_collapsed[:, :, dc_step_write, cycle]['Phase [rad]']\n",
    "frequency_map = sho_dset_collapsed[:, :, dc_step_write, cycle]['Frequency [Hz]']/1000\n",
    "Q_map = sho_dset_collapsed[:, :, dc_step_write, cycle]['Quality Factor']\n",
    "\n",
    "mixed_map = amp_map*np.cos(phase_map)\n",
    "mixed_mat_h = sho_dset_collapsed[:, :, :, :]['Amplitude [V]'] * np.cos(sho_dset_collapsed[:, :, :, :]['Phase [rad]'])*1000\n",
    "\n",
    "print('mixed shape = ', mixed_mat_h.shape)\n",
    "\n",
    "def make_figure_beps_forc(amp_map, phase_map, mixed_map, Q_map, frequency_map, mixed_mat_h, col, row, cycle, dc_step_write):\n",
    "    global fig_bf\n",
    "    fig_bf = plt.figure(figsize=(12,6))\n",
    "    fig_bf.clf()\n",
    "    fig_bf.set_facecolor('white')  \n",
    "    \n",
    "    \n",
    "    \n",
    "    ax_amp = plt.subplot(2, 3, 1)\n",
    "    img_a = ax_amp.imshow(amp_map, cmap=px.plot_utils.cmap_jet_white_center(), \n",
    "                          origin='upper', interpolation='none');\n",
    "    ax_amp.set_title('Amplitude [a.u.]', fontsize = 10)\n",
    "    fig_bf.colorbar(img_a, ax = ax_amp)\n",
    "\n",
    "    ax_phase = plt.subplot(2, 3, 2)\n",
    "    img_p = ax_phase.imshow(phase_map, cmap=px.plot_utils.cmap_jet_white_center(), \n",
    "                          origin='upper', interpolation='none', clim = [-3.5, 3.5]);\n",
    "    ax_phase.set_title('Phase [rad]', fontsize = 10)\n",
    "    fig_bf.colorbar(img_p, ax = ax_phase)\n",
    "\n",
    "    ax_m = plt.subplot(2, 3, 3)\n",
    "    img_m = ax_m.imshow(mixed_map, cmap=px.plot_utils.cmap_jet_white_center(), \n",
    "                          origin='upper', interpolation='none');\n",
    "    ax_m.set_title('Real component [a.u.]', fontsize = 10)\n",
    "    fig_bf.colorbar(img_m, ax = ax_m)\n",
    "\n",
    "    ax_q = plt.subplot(2, 3, 4)\n",
    "    img_q = ax_q.imshow(Q_map, cmap=px.plot_utils.cmap_jet_white_center(), \n",
    "                          origin='upper', interpolation='none');\n",
    "    ax_q.set_title('Quality factor', fontsize = 10)\n",
    "    fig_bf.colorbar(img_q, ax = ax_q)   \n",
    "\n",
    "    ax_f = plt.subplot(2, 3, 5)\n",
    "    img_f = ax_f.imshow(frequency_map, cmap=px.plot_utils.cmap_jet_white_center(), \n",
    "                          origin='upper', interpolation='none');\n",
    "    ax_f.set_title('Resonance frequency [kHz]', fontsize = 10)\n",
    "    fig_bf.colorbar(img_f, ax = ax_f) \n",
    "\n",
    "    ax_h = plt.subplot(2, 3, 6)\n",
    "    ax_h.plot(bias_mat[:,0:num_loops/2], mixed_mat_h[row, col, :, 0:num_loops/2],'-.', marker ='*')\n",
    "    ax_h.plot(bias_mat[:,num_loops_h:num_loops], mixed_mat_h[row, col, :, num_loops_h:num_loops],'.-')\n",
    "    ax_h.set_ylabel('Response [a.u.]')\n",
    "    ax_h.set_xlabel('Write voltage [V]')\n",
    "    ax_h.set_title('x = '+str(col)+' y = '+str(row), fontsize = 10)\n",
    "    \n",
    "    \n",
    "    fig_bf.suptitle('Step# = '+str(dc_step_write)+', cycle# = '+str(cycle)\n",
    "                    +', V$_{write}$ = '+str(bias_mat[dc_step_write, 0]) +' V'\n",
    "                   , fontsize = 12);\n",
    "    \n",
    "\n",
    "    fig_bf.tight_layout()\n",
    "    \n",
    "    plt.subplots_adjust(top = 0.9)\n",
    "\n",
    "make_figure_beps_forc(amp_map, phase_map, mixed_map, Q_map, frequency_map, mixed_mat_h, col, row, cycle, dc_step_write)\n",
    "    \n",
    "def update_beps_forc_plot(dc_step_write, cycle, col, row):\n",
    "       \n",
    "    amp_map = sho_dset_collapsed[:, :, dc_step_write, cycle]['Amplitude [V]']*1000\n",
    "    phase_map = sho_dset_collapsed[:, :, dc_step_write, cycle]['Phase [rad]']\n",
    "    frequency_map = sho_dset_collapsed[:, :, dc_step_write, cycle]['Frequency [Hz]']/1000\n",
    "    Q_map = sho_dset_collapsed[:, :, dc_step_write, cycle]['Quality Factor']\n",
    "    mixed_map = amp_map*np.cos(phase_map)\n",
    "    mixed_mat_h = sho_dset_collapsed[:, :, :, :]['Amplitude [V]'] * np.cos(sho_dset_collapsed[:, :, :, :]['Phase [rad]'])*1000\n",
    "\n",
    "    make_figure_beps_forc(amp_map, phase_map, mixed_map, Q_map, frequency_map, mixed_mat_h, col, row, cycle, dc_step_write)\n",
    "\n",
    "num_loops_h =num_loops/2-1\n",
    "\n",
    "dc_step_write_slider_bf = widgets.IntSlider(min = 0, max = num_write_steps-1, step = 1,value = 0,\n",
    "                                        description = 'Write step',continuous_update = False)\n",
    "cycle_slider = widgets.IntSlider(min = 2, max = num_loops-1, step = 1,value = 2,\n",
    "                                          description = 'Cycle', continuous_update = False)\n",
    "x_slider_bf  = widgets.IntSlider(min = 0, max = num_col-1,step = 1,value = 0,\n",
    "                             description='x',continuous_update = False)\n",
    "y_slider_bf  = widgets.IntSlider(min = 0,max = num_row-1,step = 1,value = 0, description = 'y',continuous_update = False)\n",
    "\n",
    "widgets.interact(update_beps_forc_plot, dc_step_write = dc_step_write_slider_bf, cycle = cycle_slider, \n",
    "                 col = x_slider_bf, row = y_slider_bf, **slider_dict); \n",
    "\n",
    "\n",
    "def on_save_button9_clicked(b):\n",
    "    global count\n",
    "    \n",
    "    fig_bf.savefig(output_file_path+'\\SHO_parms'+str(count)+'.png', format='png')\n",
    "    fig_bf.savefig(output_file_path+'\\SHO_parms'+str(count)+'.eps', format='eps')\n",
    "    fig_bf.savefig(output_file_path+'\\SHO_parms'+str(count)+'.tif', format='tif')\n",
    "    count+=1\n",
    "    \n",
    "button9 = widgets.Button(description = 'Save figure')\n",
    "display(button9)\n",
    "button9.on_click(on_save_button9_clicked)"
   ]
  },
  {
   "cell_type": "code",
   "execution_count": null,
   "metadata": {
    "collapsed": true
   },
   "outputs": [],
   "source": [
    "amp_data = sho_dset_collapsed[:, :, :, :]['Amplitude [V]']*1000\n",
    "phase_data = sho_dset_collapsed[:, :, :, :]['Phase [rad]']\n",
    "\n",
    "amp_mean1 = np.nanmean(amp_data, axis = 0)\n",
    "amp_mean = np.nanmean(amp_mean1, axis = 0)\n",
    "\n",
    "phase_mean1 = np.nanmean(phase_data, axis = 0)\n",
    "phase_mean = np.nanmean(phase_mean1, axis = 0)\n",
    "\n",
    "mixed_mat_mean1 = np.nanmean(mixed_mat_h, axis = 0)\n",
    "mixed_mat_mean = np.nanmean(mixed_mat_mean1, axis = 0)\n",
    "\n",
    "fig_loops = plt.figure(figsize=(16,4))\n",
    "fig_loops.clf()\n",
    "fig_loops.set_facecolor('white')  \n",
    "\n",
    "ax_mixed = plt.subplot(1, 3, 1)\n",
    "img_a = ax_mixed.plot(bias_mat[:, 2:4], mixed_mat_mean[:, 2:4],'.-');\n",
    "ax_mixed.set_xlabel('DC voltage [V]', fontsize = 12)\n",
    "ax_mixed.set_ylabel('Mixed response [a.u.]', fontsize = 12)\n",
    "\n",
    "ax_phase = plt.subplot(1, 3, 2)\n",
    "img_c = ax_phase.plot(bias_mat[:,2:4], phase_mean[:, 2:4],'.-');\n",
    "ax_phase.set_xlabel('DC voltage [V]', fontsize = 12)\n",
    "ax_phase.set_ylabel('Phase [rad]', fontsize = 12)\n",
    "\n",
    "ax_amp = plt.subplot(1, 3, 3)\n",
    "img_b = ax_amp.plot(bias_mat[:,2:4], amp_mean[:,2:4],'.-');\n",
    "ax_amp.set_xlabel('DC voltage [V]', fontsize = 12)\n",
    "ax_amp.set_ylabel('Amplitude [a.u.]', fontsize = 12)\n",
    "\n",
    "def on_save_button10_clicked(b):\n",
    "    fig_loops.savefig(output_file_path+'\\Loops.png', format='png')\n",
    "    fig_loops.savefig(output_file_path+'\\Loops.eps', format='eps')\n",
    "    fig_loops.savefig(output_file_path+'\\Loops.tif', format='tif')\n",
    "    \n",
    "    \n",
    "button10 = widgets.Button(description = 'Save figure')\n",
    "display(button10)\n",
    "button10.on_click(on_save_button10_clicked)\n"
   ]
  },
  {
   "cell_type": "code",
   "execution_count": null,
   "metadata": {
    "collapsed": true
   },
   "outputs": [],
   "source": [
    "# PCA on real component\n",
    "\n",
    "from sklearn.utils.extmath import randomized_svd\n",
    "\n",
    "\n",
    "mixed_mat_h.shape(:, :, :, num_loops_h:num_loops)\n",
    "\n",
    "# resp_mat_0Vr = np.reshape(resp_mat_0Vr,(num_row*num_col, num_write_steps))\n",
    "# U_SVD_resp0Vr, S_SVD_resp0Vr, V_SVD_resp0Vr = randomized_svd(resp_mat_0Vr, n_components = num_components)"
   ]
  },
  {
   "cell_type": "code",
   "execution_count": null,
   "metadata": {
    "collapsed": true
   },
   "outputs": [],
   "source": [
    "from matplotlib.widgets import Cursor\n",
    "import numpy as np\n",
    "import matplotlib.pyplot as plt\n",
    "\n",
    "\n",
    "fig = plt.figure(figsize=(8, 6))\n",
    "ax = fig.add_subplot(111)\n",
    "\n",
    "x, y = 4*(np.random.rand(2, 100) - .5)\n",
    "ax.plot(x, y, 'o')\n",
    "ax.set_xlim(-2, 2)\n",
    "ax.set_ylim(-2, 2)\n",
    "\n",
    "# set useblit = True on gtkagg for enhanced performance\n",
    "cursor = Cursor(ax, useblit=True, color='red', linewidth=2)\n",
    "\n",
    "plt.show()"
   ]
  },
  {
   "cell_type": "markdown",
   "metadata": {},
   "source": [
    "## Visualize the SHO results of BEline, BEPS and FORC data\n",
    "Here, we visualize the parameters for the SHO fits. BE-line (3D) data is visualized via simple spatial maps of the SHO parameters while more complex BEPS datasets (4+ dimensions) can be visualized using a simple interactive visualizer below. \n",
    "\n",
    "You can choose to visualize the guesses for SHO function or the final fit values from the first line of the cell below.\n",
    "\n",
    "Use the sliders below to inspect the BE response at any given location. "
   ]
  },
  {
   "cell_type": "code",
   "execution_count": null,
   "metadata": {
    "collapsed": true,
    "scrolled": false
   },
   "outputs": [],
   "source": [
    "use_sho_guess = False\n",
    "use_static_viz_func = False\n",
    "\n",
    "if use_sho_guess:\n",
    "    sho_dset = h5_sho_guess\n",
    "else:\n",
    "    sho_dset = h5_sho_fit\n",
    "\n",
    "if hdf.file.attrs['data_type'] == 'BELineData' or len(pos_dims) != 2:\n",
    "    use_static_viz_func = True\n",
    "    step_chan = None\n",
    "else:\n",
    "    if h5_main.parent.parent.attrs['VS_mode'] not in ['AC modulation mode with time reversal', \n",
    "                                                      'DC modulation mode']:\n",
    "        use_static_viz_func = True\n",
    "    else:\n",
    "        if h5_main.parent.parent.attrs['VS_mode'] == 'DC modulation mode':\n",
    "            step_chan = 'DC_Offset'\n",
    "        else:\n",
    "            step_chan = 'AC_Amplitude'\n",
    "if not use_static_viz_func:\n",
    "    try:\n",
    "        # use interactive visualization\n",
    "        px.be_viz_utils.jupyter_visualize_beps_sho(sho_dset, step_chan)\n",
    "    except:\n",
    "        print('There was a problem with the interactive visualizer')\n",
    "        use_static_viz_func = True\n",
    "if use_static_viz_func:\n",
    "    # show plots of SHO results vs. applied bias\n",
    "    px.be_viz_utils.visualize_sho_results(sho_dset, show_plots=True, \n",
    "                                        save_plots=False)"
   ]
  },
  {
   "cell_type": "code",
   "execution_count": null,
   "metadata": {
    "collapsed": true
   },
   "outputs": [],
   "source": [
    "h5_sho_dset = sho_dset\n",
    "resp_func = None\n",
    "guess_3d_data, success = px.io.hdf_utils.reshape_to_Ndims(h5_sho_dset)\n",
    "\n",
    "h5_sho_spec_inds = px.io.hdf_utils.getAuxData(h5_sho_dset, 'Spectroscopic_Indices')[0]\n",
    "h5_sho_spec_vals = px.io.hdf_utils.getAuxData(h5_sho_dset, 'Spectroscopic_Values')[0]\n",
    "spec_nd, _ = px.io.hdf_utils.reshape_to_Ndims(h5_sho_spec_inds, h5_spec=h5_sho_spec_inds)\n",
    "# sho_spec_sort = get_sort_order(h5_sho_spec_inds)\n",
    "sho_spec_dims = np.array(spec_nd.shape[1:])\n",
    "sho_spec_labels = h5_sho_spec_inds.attrs['labels']\n",
    "\n",
    "h5_pos_inds = px.io.hdf_utils.getAuxData(h5_sho_dset, auxDataName='Position_Indices')[-1]\n",
    "pos_nd, _ = px.io.hdf_utils.reshape_to_Ndims(h5_pos_inds, h5_pos=h5_pos_inds)\n",
    "print(pos_nd.shape)\n",
    "pos_dims = list(pos_nd.shape[:h5_pos_inds.shape[1]])\n",
    "print(pos_dims)\n",
    "pos_labels = h5_pos_inds.attrs['labels']\n",
    "print(pos_labels)\n",
    "\n",
    "# reshape to X, Y, step, all others\n",
    "spec_step_dim_ind = np.argwhere(sho_spec_labels == step_chan)[0][0]\n",
    "step_dim_ind = len(pos_dims) + spec_step_dim_ind\n",
    "\n",
    "# move the step dimension to be the first after all position dimensions\n",
    "rest_sho_dim_order = range(len(pos_dims), len(guess_3d_data.shape))\n",
    "rest_sho_dim_order.remove(step_dim_ind)\n",
    "new_order = range(len(pos_dims)) + [step_dim_ind] + rest_sho_dim_order\n",
    "\n",
    "# Transpose the 3D dataset to this shape:\n",
    "sho_guess_Nd_1 = np.transpose(guess_3d_data, new_order)\n",
    "\n",
    "# Now move the step dimension to the front for the spec labels as well\n",
    "new_spec_order = range(len(sho_spec_labels))\n",
    "new_spec_order.remove(spec_step_dim_ind)\n",
    "new_spec_order = [spec_step_dim_ind] + new_spec_order\n",
    "\n",
    "# new_spec_labels = sho_spec_labels[new_spec_order]\n",
    "new_spec_dims = np.array(sho_spec_dims)[new_spec_order]\n",
    "\n",
    "# Now collapse all additional dimensions\n",
    "final_guess_shape = pos_dims + [new_spec_dims[0]] + [-1]\n",
    "sho_dset_collapsed = np.reshape(sho_guess_Nd_1, final_guess_shape)\n",
    "\n",
    "# Get the bias matrix:\n",
    "bias_mat, _ = px.io.hdf_utils.reshape_to_Ndims(h5_sho_spec_vals, h5_spec=h5_sho_spec_inds)\n",
    "bias_mat = np.transpose(bias_mat[spec_step_dim_ind], new_spec_order).reshape(sho_dset_collapsed.shape[len(pos_dims):])\n",
    "\n",
    "# This is just the visualizer:\n",
    "sho_quantity = 'Amplitude [V]'\n",
    "step_ind = 0\n",
    "row_ind = 1\n",
    "col_ind = 1\n",
    "\n",
    "def dc_spectroscopy_func(resp_vec):\n",
    "    return resp_vec['Amplitude [V]'] * np.cos(resp_vec['Phase [rad]']) * 1E+3\n",
    "\n",
    "def ac_spectroscopy_func(resp_vec):\n",
    "    return resp_vec['Amplitude [V]']\n",
    "\n",
    "if resp_func is None:\n",
    "    if step_chan == 'DC_Offset':\n",
    "        resp_func = dc_spectroscopy_func\n",
    "        resp_label = 'A cos($\\phi$) (a. u.)'\n",
    "    else:\n",
    "        resp_func = ac_spectroscopy_func\n",
    "        resp_label = 'Amplitude (a. u.)'\n",
    "\n",
    "spatial_map = sho_dset_collapsed[:, :, step_ind, 0][sho_quantity]\n",
    "resp_vec = sho_dset_collapsed[row_ind, col_ind, :, :]\n",
    "resp_vec = resp_func(resp_vec)"
   ]
  },
  {
   "cell_type": "markdown",
   "metadata": {},
   "source": [
    "## Fit loops to a function\n",
    "This is applicable only to DC voltage spectroscopy datasets from BEPS. The PFM hysteresis loops in this dataset will be projected to maximize the loop area and then fitted to a function.\n",
    "\n",
    "Note: This computation generally takes a while for reasonably sized datasets."
   ]
  },
  {
   "cell_type": "code",
   "execution_count": null,
   "metadata": {
    "collapsed": true
   },
   "outputs": [],
   "source": [
    "# Do the Loop Fitting on the SHO Fit dataset\n",
    "loop_success = False\n",
    "h5_loop_group = px.hdf_utils.findH5group(h5_sho_fit, 'Loop_Fit')\n",
    "if len(h5_loop_group) == 0:\n",
    "    try:\n",
    "        loop_fitter = px.BELoopModel(h5_sho_fit, parallel=True)\n",
    "        print('No loop fits found. Fitting now....')\n",
    "        h5_loop_guess = loop_fitter.do_guess(processors=max_cores, max_mem=max_mem)\n",
    "        h5_loop_fit = loop_fitter.do_fit(processors=max_cores, max_mem=max_mem)\n",
    "        loop_success = True\n",
    "    except ValueError:\n",
    "        print('Loop fitting is applicable only to DC spectroscopy datasets!')\n",
    "else:\n",
    "    loop_success = True\n",
    "    print('Taking previously computed loop fits')\n",
    "    h5_loop_guess = h5_loop_group[-1]['Guess']\n",
    "    h5_loop_fit = h5_loop_group[-1]['Fit']"
   ]
  },
  {
   "cell_type": "code",
   "execution_count": null,
   "metadata": {
    "collapsed": true
   },
   "outputs": [],
   "source": [
    "h5_loop_guess = loop_fitter.do_guess(processors=max_cores, max_mem=max_mem)"
   ]
  },
  {
   "cell_type": "markdown",
   "metadata": {},
   "source": [
    "## Prepare datasets for visualization"
   ]
  },
  {
   "cell_type": "code",
   "execution_count": null,
   "metadata": {
    "collapsed": true
   },
   "outputs": [],
   "source": [
    "# Prepare some variables for plotting loops fits and guesses\n",
    "# Plot the Loop Guess and Fit Results\n",
    "if loop_success:\n",
    "    h5_projected_loops = h5_loop_guess.parent['Projected_Loops']\n",
    "    h5_proj_spec_inds = px.hdf_utils.getAuxData(h5_projected_loops, \n",
    "                                                auxDataName='Spectroscopic_Indices')[-1]\n",
    "    h5_proj_spec_vals = px.hdf_utils.getAuxData(h5_projected_loops, \n",
    "                                                auxDataName='Spectroscopic_Values')[-1]\n",
    "\n",
    "    # reshape the vdc_vec into DC_step by Loop\n",
    "    sort_order = px.hdf_utils.get_sort_order(h5_proj_spec_inds)\n",
    "    dims = px.hdf_utils.get_dimensionality(h5_proj_spec_inds[()], \n",
    "                                           sort_order[::-1])\n",
    "    vdc_vec = np.reshape(h5_proj_spec_vals[h5_proj_spec_vals.attrs['DC_Offset']], dims).T\n",
    "\n",
    "    #Also reshape the projected loops to Positions-DC_Step-Loop\n",
    "    # Also reshape the projected loops to Positions-DC_Step-Loop\n",
    "    proj_nd, _ = px.hdf_utils.reshape_to_Ndims(h5_projected_loops)\n",
    "    proj_3d = np.reshape(proj_nd, [h5_projected_loops.shape[0], \n",
    "                                   proj_nd.shape[2], -1])"
   ]
  },
  {
   "cell_type": "markdown",
   "metadata": {},
   "source": [
    "## Visualize Loop fits"
   ]
  },
  {
   "cell_type": "code",
   "execution_count": null,
   "metadata": {
    "collapsed": true
   },
   "outputs": [],
   "source": [
    "use_static_plots = False\n",
    "if loop_success:\n",
    "    if not use_static_plots:\n",
    "        try:\n",
    "            px.be_viz_utils.jupyter_visualize_beps_loops(h5_projected_loops, h5_loop_guess, h5_loop_fit)\n",
    "        except:\n",
    "            print('There was a problem with the interactive visualizer')\n",
    "            use_static_plots = True\n",
    "    if use_static_plots:\n",
    "        for iloop in range(h5_loop_guess.shape[1]):\n",
    "            fig, ax = px.be_viz_utils.plot_loop_guess_fit(vdc_vec[:, iloop], proj_3d[:, :, iloop], \n",
    "                                          h5_loop_guess[:, iloop], h5_loop_fit[:, iloop],\n",
    "                                          title='Loop {} - All Positions'.format(iloop))"
   ]
  },
  {
   "cell_type": "markdown",
   "metadata": {},
   "source": [
    "## Save and close\n",
    "* Save the .h5 file that we are working on by closing it. <br>\n",
    "* Also, consider exporting this notebook as a notebook or an html file. <br> To do this, go to File >> Download as >> HTML\n",
    "* Finally consider saving this notebook if necessary"
   ]
  },
  {
   "cell_type": "code",
   "execution_count": null,
   "metadata": {
    "collapsed": true
   },
   "outputs": [],
   "source": [
    "hdf.close()"
   ]
  },
  {
   "cell_type": "code",
   "execution_count": null,
   "metadata": {
    "collapsed": true
   },
   "outputs": [],
   "source": []
  }
 ],
 "metadata": {
  "anaconda-cloud": {},
  "kernelspec": {
   "display_name": "Python 3",
   "language": "python",
   "name": "python3"
  },
  "language_info": {
   "codemirror_mode": {
    "name": "ipython",
    "version": 3
   },
   "file_extension": ".py",
   "mimetype": "text/x-python",
   "name": "python",
   "nbconvert_exporter": "python",
   "pygments_lexer": "ipython3",
   "version": "3.6.0"
  },
  "widgets": {
   "state": {
    "004b75b3c0a9453ca262e88bcffe6320": {
     "views": [
      {
       "cell_index": 32
      }
     ]
    },
    "013ef43338834ac39d1f55e0551f215f": {
     "views": [
      {
       "cell_index": 20
      }
     ]
    },
    "03731bbe4e7d465c87b35c0b214a490b": {
     "views": [
      {
       "cell_index": 20
      }
     ]
    },
    "0c2522aad7044463a20d86643b11210c": {
     "views": [
      {
       "cell_index": 22
      }
     ]
    },
    "0da6103db52140148c92ce3ec3c92ea7": {
     "views": [
      {
       "cell_index": 34
      }
     ]
    },
    "0df0b276e40145aeab5e3202f50e2b9a": {
     "views": [
      {
       "cell_index": 22
      }
     ]
    },
    "0f2d2083cd374bd7b06ffd7cf3dc7c79": {
     "views": [
      {
       "cell_index": 22
      }
     ]
    },
    "0fba4a2efa3f4c0cacd61f7949b828d0": {
     "views": [
      {
       "cell_index": 48
      }
     ]
    },
    "106ba6b9a2894013ad1ff2fa2aa47685": {
     "views": [
      {
       "cell_index": 20
      }
     ]
    },
    "1091c7898b69459f82d77f44c0dbe692": {
     "views": [
      {
       "cell_index": 27
      }
     ]
    },
    "1245a5ae807749d8affe00b6e8a06815": {
     "views": [
      {
       "cell_index": 22
      }
     ]
    },
    "16c05b12e4384404a5bff00c8f070e82": {
     "views": [
      {
       "cell_index": 22
      }
     ]
    },
    "18390a7af99d4e4490908f7f8e2ccb64": {
     "views": [
      {
       "cell_index": 22
      }
     ]
    },
    "1887b799056c41ddb614014b0b6b3052": {
     "views": [
      {
       "cell_index": 20
      }
     ]
    },
    "1b168bdf1dfc4e029a7bcdfaf5287d9e": {
     "views": [
      {
       "cell_index": 26
      }
     ]
    },
    "1c8b17397e97460a912c240618cce55b": {
     "views": [
      {
       "cell_index": 22
      }
     ]
    },
    "1e3a3abddfd44d44b3d8b35f614e4f6d": {
     "views": [
      {
       "cell_index": 22
      }
     ]
    },
    "1eff84f3a0644385a260536c132b5350": {
     "views": [
      {
       "cell_index": 20
      }
     ]
    },
    "1f3b6953cd83422ba4536fda5217fb0f": {
     "views": [
      {
       "cell_index": 22
      }
     ]
    },
    "1f57be14625349f88520479895455a09": {
     "views": [
      {
       "cell_index": 20
      }
     ]
    },
    "1fb9b7b1b1fe435aa6cd66e8ce7fc873": {
     "views": [
      {
       "cell_index": 22
      }
     ]
    },
    "200ee1d6a3604138b8ab81673c6d2437": {
     "views": [
      {
       "cell_index": 20
      }
     ]
    },
    "229081689cac459288eb97c2402e4647": {
     "views": [
      {
       "cell_index": 22
      }
     ]
    },
    "2333ee6e2b3041c1b14c4839f213a35f": {
     "views": [
      {
       "cell_index": 34
      }
     ]
    },
    "24683f19881944aa9e159aa3cd212b26": {
     "views": [
      {
       "cell_index": 22
      }
     ]
    },
    "252296babdb140b9822e152a621d3c6f": {
     "views": [
      {
       "cell_index": 20
      }
     ]
    },
    "253c6da489d24de9b9e9c3f57c834f8e": {
     "views": [
      {
       "cell_index": 22
      }
     ]
    },
    "27cec2a4bcf1481ab5fa76546685d313": {
     "views": [
      {
       "cell_index": 22
      }
     ]
    },
    "27ea4625d1264657abf1335f10309d48": {
     "views": [
      {
       "cell_index": 22
      }
     ]
    },
    "2a5f6a0c370e491f805769f82b16f1f5": {
     "views": [
      {
       "cell_index": 22
      }
     ]
    },
    "2c326a8d9c014475bb08a96f2d48ec6b": {
     "views": [
      {
       "cell_index": 20
      }
     ]
    },
    "2d978ede735d4a008c6d6939e7af0d34": {
     "views": [
      {
       "cell_index": 20
      }
     ]
    },
    "2eba2773d5a3439bab45d7c75633b80a": {
     "views": [
      {
       "cell_index": 22
      }
     ]
    },
    "2f08fd75283d4c9bbbb2f585c18c2b84": {
     "views": [
      {
       "cell_index": 22
      }
     ]
    },
    "2f5edd3f8d164672b6253acd481bab5c": {
     "views": [
      {
       "cell_index": 22
      }
     ]
    },
    "2fd188ee4d81451797c14a58f6d70013": {
     "views": [
      {
       "cell_index": 22
      }
     ]
    },
    "3226cf4e6c214735a3319a94b62452d9": {
     "views": [
      {
       "cell_index": 20
      }
     ]
    },
    "32c72b404c3540c3b9ee8321eb549227": {
     "views": [
      {
       "cell_index": 22
      }
     ]
    },
    "334527a619684c94ac23c0bb3927e7e2": {
     "views": [
      {
       "cell_index": 20
      }
     ]
    },
    "33c2a2056b4a48a2b4caf5416d6c15de": {
     "views": [
      {
       "cell_index": 22
      }
     ]
    },
    "3a11fd566d1243f88c7a1d9f9568346e": {
     "views": [
      {
       "cell_index": 22
      }
     ]
    },
    "3c2e566d0c5047c9bbb376a386566811": {
     "views": [
      {
       "cell_index": 20
      }
     ]
    },
    "3c6531bf8739465b9e278aa147b8bce0": {
     "views": [
      {
       "cell_index": 22
      }
     ]
    },
    "3c6b79158906476ba2ae69eb3626ef29": {
     "views": [
      {
       "cell_index": 20
      }
     ]
    },
    "3cd3856d1bec4cbca42bfdb385eac13b": {
     "views": [
      {
       "cell_index": 22
      }
     ]
    },
    "3ea78f55d0c24b39a8604fc5ae7fc470": {
     "views": [
      {
       "cell_index": 22
      }
     ]
    },
    "3fa3e0756a0a4858a044c50eb96655a4": {
     "views": [
      {
       "cell_index": 22
      }
     ]
    },
    "3fd4c31c30104f54bd0e36b599f1b0d7": {
     "views": [
      {
       "cell_index": 20
      }
     ]
    },
    "426f6d47a8b84e7ca4babb28232f785c": {
     "views": [
      {
       "cell_index": 27
      }
     ]
    },
    "441862466c3542d9b8614d285acc2d89": {
     "views": [
      {
       "cell_index": 33
      }
     ]
    },
    "4440c4795e124ebbbc97d48d20082a4b": {
     "views": [
      {
       "cell_index": 22
      }
     ]
    },
    "45d76a9ccb5341f58a4e940b81d72ad6": {
     "views": [
      {
       "cell_index": 22
      }
     ]
    },
    "466cf44264604b1ca750ddf1212e2ee8": {
     "views": [
      {
       "cell_index": 34
      }
     ]
    },
    "47667b6638864a2387eab723e4872a8b": {
     "views": [
      {
       "cell_index": 50
      }
     ]
    },
    "48db59f08e0e47859b0ee0edebed06b5": {
     "views": [
      {
       "cell_index": 22
      }
     ]
    },
    "49e68a65d3c34a8aa0858798e5116098": {
     "views": [
      {
       "cell_index": 22
      }
     ]
    },
    "4a08b03856224646ae6fc06386762f7d": {
     "views": [
      {
       "cell_index": 20
      }
     ]
    },
    "4b0eeeae2b384f59b72c7ec06f9c471a": {
     "views": [
      {
       "cell_index": 20
      }
     ]
    },
    "4c80135c71cf499fbc2be1eb7b3039ca": {
     "views": [
      {
       "cell_index": 22
      }
     ]
    },
    "4e34b568636f48ca8da39e6023d7b946": {
     "views": [
      {
       "cell_index": 20
      }
     ]
    },
    "50a8632de0c94ca981418a62c43b229d": {
     "views": [
      {
       "cell_index": 22
      }
     ]
    },
    "518ad177ac774c97b1bf788dfa362e87": {
     "views": [
      {
       "cell_index": 22
      }
     ]
    },
    "52e1cd22d4cc46f78b1bdb199b30b32e": {
     "views": [
      {
       "cell_index": 22
      }
     ]
    },
    "55545d47ba384198aad1cd7808448c7f": {
     "views": [
      {
       "cell_index": 22
      }
     ]
    },
    "57516f91b20b4797a77235b67e315d07": {
     "views": [
      {
       "cell_index": 22
      }
     ]
    },
    "5759b7e6994a44219ce213e406eb7982": {
     "views": [
      {
       "cell_index": 22
      }
     ]
    },
    "58548d5bb6e041da91fc1e34d67497c8": {
     "views": [
      {
       "cell_index": 24
      }
     ]
    },
    "59b02714a16e4aea94a8831867dff71e": {
     "views": [
      {
       "cell_index": 22
      }
     ]
    },
    "5a2a9080cd404793a247ef01c74a890a": {
     "views": [
      {
       "cell_index": 22
      }
     ]
    },
    "5a5f2318950d49978dec3511cb4b00dc": {
     "views": [
      {
       "cell_index": 22
      }
     ]
    },
    "5adc30a3eb994a6493a249a223ee3eaa": {
     "views": [
      {
       "cell_index": 28
      }
     ]
    },
    "5da98c3f88a9498d9bb77f208323c6fa": {
     "views": [
      {
       "cell_index": 33
      }
     ]
    },
    "5f140d874f0a4c7f86ccbb9d8f181f87": {
     "views": [
      {
       "cell_index": 22
      }
     ]
    },
    "5fcdc1b98d9a46b3b3698348ff309f76": {
     "views": [
      {
       "cell_index": 20
      }
     ]
    },
    "601a1d573ef54f3da0207940088436fc": {
     "views": [
      {
       "cell_index": 22
      }
     ]
    },
    "61923f2aa2014259ae563b97a8f030ba": {
     "views": [
      {
       "cell_index": 22
      }
     ]
    },
    "6215fec2288b4f8d908226db6f432b9f": {
     "views": [
      {
       "cell_index": 22
      }
     ]
    },
    "62705169cbc74b3eab7f8c50ea8c52fe": {
     "views": [
      {
       "cell_index": 20
      }
     ]
    },
    "640653936f65487988404f6d426da533": {
     "views": [
      {
       "cell_index": 20
      }
     ]
    },
    "6479f5cb4cf04daca716b0df1e643186": {
     "views": [
      {
       "cell_index": 22
      }
     ]
    },
    "6781d0b6a8e84ab691cd021175acefb3": {
     "views": [
      {
       "cell_index": 22
      }
     ]
    },
    "6820c0bb148c4cf9b2b3e2babf9d4876": {
     "views": [
      {
       "cell_index": 22
      }
     ]
    },
    "6a30ab4b402849a19a5ab69a0425d99f": {
     "views": [
      {
       "cell_index": 22
      }
     ]
    },
    "6a829084d30c43a990cf429ef467c5f5": {
     "views": [
      {
       "cell_index": 20
      }
     ]
    },
    "6aedfc25a0194d0ba4aa69bef246298c": {
     "views": [
      {
       "cell_index": 36
      }
     ]
    },
    "6b977337480340bea29cb7393cc86adf": {
     "views": [
      {
       "cell_index": 26
      }
     ]
    },
    "6f1267616b1442808bc8e28eaf990b9a": {
     "views": [
      {
       "cell_index": 22
      }
     ]
    },
    "745d38ec65f444e08b73f49bb4d5f19d": {
     "views": [
      {
       "cell_index": 12
      }
     ]
    },
    "75db983b508b44608fec25c6217f85f8": {
     "views": [
      {
       "cell_index": 22
      }
     ]
    },
    "76f8e33e84b24376891f86fce56e610b": {
     "views": [
      {
       "cell_index": 27
      }
     ]
    },
    "772c140a0c2040b4a21bde7f61617789": {
     "views": [
      {
       "cell_index": 22
      }
     ]
    },
    "78860c1ca5ba4daf8c1f8aa9cdf9886d": {
     "views": [
      {
       "cell_index": 22
      }
     ]
    },
    "78955f0364994a3c971afd1863a05b3a": {
     "views": [
      {
       "cell_index": 22
      }
     ]
    },
    "7cc6aa3950504a1abb7bb1fdaed4e8b4": {
     "views": [
      {
       "cell_index": 20
      }
     ]
    },
    "7dd37cbc0bb34505b9b8997ac8602da9": {
     "views": [
      {
       "cell_index": 34
      }
     ]
    },
    "81ea2b5c960741218ce783af9cc518b9": {
     "views": [
      {
       "cell_index": 22
      }
     ]
    },
    "8285c6714ca041f1a2294d40f8a744b5": {
     "views": [
      {
       "cell_index": 22
      }
     ]
    },
    "83148171a8254f2bba18f2825784d5cb": {
     "views": [
      {
       "cell_index": 30
      }
     ]
    },
    "835480b7080f4c739c41cf4d5ed2fc2c": {
     "views": [
      {
       "cell_index": 22
      }
     ]
    },
    "84f40717e9c649e5bbabaa85cf0ae263": {
     "views": [
      {
       "cell_index": 22
      }
     ]
    },
    "84f62ae372fd4442b5b1f43807e1f31c": {
     "views": [
      {
       "cell_index": 20
      }
     ]
    },
    "870b7b8a3fa24a4ba6d94d618fa3f3e3": {
     "views": [
      {
       "cell_index": 22
      }
     ]
    },
    "8719d35335554d098f37003a3e4d7266": {
     "views": [
      {
       "cell_index": 22
      }
     ]
    },
    "87f7c00bc4e24d46aa9e7d168574f79e": {
     "views": [
      {
       "cell_index": 20
      }
     ]
    },
    "8b0ef9eac4e24702b6f2fd4a94810f56": {
     "views": [
      {
       "cell_index": 27
      }
     ]
    },
    "8c0f848a076a41d89ccb59d04113fde2": {
     "views": [
      {
       "cell_index": 22
      }
     ]
    },
    "8cbe81dbfe0042aab68990f5f727e57f": {
     "views": [
      {
       "cell_index": 32
      }
     ]
    },
    "8ea4ba4cfd1c44c085b929fda24c9b3c": {
     "views": [
      {
       "cell_index": 22
      }
     ]
    },
    "8f637079f4eb44ed93e69a76ad7c8446": {
     "views": [
      {
       "cell_index": 22
      }
     ]
    },
    "8fd6b3062f27485d85b170e5dc493bd1": {
     "views": [
      {
       "cell_index": 20
      }
     ]
    },
    "90fc2cd4bc5a4bc9933eefe6eade6d73": {
     "views": [
      {
       "cell_index": 20
      }
     ]
    },
    "936a08daf35148fb9fd86dad1e54ad70": {
     "views": [
      {
       "cell_index": 20
      }
     ]
    },
    "943beb03286741f4ada739f7d3bfbf8f": {
     "views": [
      {
       "cell_index": 27
      }
     ]
    },
    "96323125acc0426281e0a3d62847dd46": {
     "views": [
      {
       "cell_index": 20
      }
     ]
    },
    "9710a09cec7c42ad89a94d5eb3458949": {
     "views": [
      {
       "cell_index": 22
      }
     ]
    },
    "9985eed09f37449fa1f1c8f245f4085f": {
     "views": [
      {
       "cell_index": 22
      }
     ]
    },
    "9a77a5c0079d42c5b2ccde0034423cad": {
     "views": [
      {
       "cell_index": 22
      }
     ]
    },
    "9abef5c8b2d54b7cbe1f7a6b71949bd9": {
     "views": [
      {
       "cell_index": 22
      }
     ]
    },
    "9b35d7483a93479da1b9f36593b7d564": {
     "views": [
      {
       "cell_index": 34
      }
     ]
    },
    "9f98b4f217ca4e68b9629b09bb30709d": {
     "views": [
      {
       "cell_index": 22
      }
     ]
    },
    "a319db55898f48c98a1a41f056b214aa": {
     "views": [
      {
       "cell_index": 22
      }
     ]
    },
    "a4132c170ec7479c8e19f0001aee322c": {
     "views": [
      {
       "cell_index": 22
      }
     ]
    },
    "a6000ebbbd6f42b2821a8e928102e349": {
     "views": [
      {
       "cell_index": 20
      }
     ]
    },
    "a85c126a09884a349ca65e98fdb6a175": {
     "views": [
      {
       "cell_index": 22
      }
     ]
    },
    "a8b860980e2f4c539fe2ecf6609de434": {
     "views": [
      {
       "cell_index": 20
      }
     ]
    },
    "aa32b3e3313e494899ce0e0d6d64c161": {
     "views": [
      {
       "cell_index": 22
      }
     ]
    },
    "ab22b74afdb246b5bf31c5d0d2c24eae": {
     "views": [
      {
       "cell_index": 22
      }
     ]
    },
    "ad5a9688818140fcb5d11d72e8448197": {
     "views": [
      {
       "cell_index": 20
      }
     ]
    },
    "ad888acb36d849bd9cecf53e7af0b263": {
     "views": [
      {
       "cell_index": 22
      }
     ]
    },
    "afbd23209f284c1e9f47a9925617b1e4": {
     "views": [
      {
       "cell_index": 22
      }
     ]
    },
    "b018aeb25f774f3e84edd16671e7448d": {
     "views": [
      {
       "cell_index": 19
      }
     ]
    },
    "b1dd9ef912ab40e4939dbbc8296d99df": {
     "views": [
      {
       "cell_index": 22
      }
     ]
    },
    "b2e873efb17d456b9e88099444f8c49d": {
     "views": [
      {
       "cell_index": 22
      }
     ]
    },
    "b3a3132aa5904950953e77668be69239": {
     "views": [
      {
       "cell_index": 20
      }
     ]
    },
    "b587b62ed2674093ac7547c28322dade": {
     "views": [
      {
       "cell_index": 22
      }
     ]
    },
    "b7aff4785f1a48919c6202e28194cd8a": {
     "views": [
      {
       "cell_index": 22
      }
     ]
    },
    "b7b4e90ac1c946f0b2a0a1a3944e3a72": {
     "views": [
      {
       "cell_index": 20
      }
     ]
    },
    "bae378b5ee894a82b3d0a01cd6226292": {
     "views": [
      {
       "cell_index": 26
      }
     ]
    },
    "c0818ccd1f224489b76a8e384050e05d": {
     "views": [
      {
       "cell_index": 22
      }
     ]
    },
    "c140980fff33438295f215f4a14bf1a0": {
     "views": [
      {
       "cell_index": 33
      }
     ]
    },
    "c1ae6f91f28a4979adc60164ae3c23a9": {
     "views": [
      {
       "cell_index": 20
      }
     ]
    },
    "c4bf1a0b9f5c4ae385c4f29ca2500930": {
     "views": [
      {
       "cell_index": 20
      }
     ]
    },
    "c53ed2724b494dd49705edd102548e1e": {
     "views": [
      {
       "cell_index": 32
      }
     ]
    },
    "ca651c48b785444db4843482c5c0128f": {
     "views": [
      {
       "cell_index": 20
      }
     ]
    },
    "cc8a22026fe94604ab8edf7bfc9d8ea4": {
     "views": [
      {
       "cell_index": 22
      }
     ]
    },
    "ceabcdc115244af88db6b71fb5541653": {
     "views": [
      {
       "cell_index": 36
      }
     ]
    },
    "cf01b46ee4eb47deab9fe18393b056bb": {
     "views": [
      {
       "cell_index": 22
      }
     ]
    },
    "d5624ebebcee48cdadabb67c904e06bb": {
     "views": [
      {
       "cell_index": 22
      }
     ]
    },
    "da7c461ef7014ae2bbf2027f8e096974": {
     "views": [
      {
       "cell_index": 22
      }
     ]
    },
    "daa28c65a80f43c8a73415376bdb4c0f": {
     "views": [
      {
       "cell_index": 22
      }
     ]
    },
    "db4ec01f773e4aafa9cb6f218273d987": {
     "views": [
      {
       "cell_index": 20
      }
     ]
    },
    "ddab1ab606344b008646a203ae843dad": {
     "views": [
      {
       "cell_index": 22
      }
     ]
    },
    "e13e4e9f39184699bb11f8c1cd3cdae4": {
     "views": [
      {
       "cell_index": 52
      }
     ]
    },
    "e1597335a1d44d8eb26e983ac939deeb": {
     "views": [
      {
       "cell_index": 22
      }
     ]
    },
    "e5e52ee5548c4aaf9ba824c4c82916e8": {
     "views": [
      {
       "cell_index": 34
      }
     ]
    },
    "e655206f0ed04bc9aeafb7fef58a3405": {
     "views": [
      {
       "cell_index": 46
      }
     ]
    },
    "e95b6a5beb194275979b5e71c9982243": {
     "views": [
      {
       "cell_index": 33
      }
     ]
    },
    "e9fb83d24e1b4b24b32022998a54c3d7": {
     "views": [
      {
       "cell_index": 22
      }
     ]
    },
    "ec619dc0e5a64620b425b3c7ec149c40": {
     "views": [
      {
       "cell_index": 27
      }
     ]
    },
    "ed220ad67e454d999b2da008a9df9771": {
     "views": [
      {
       "cell_index": 22
      }
     ]
    },
    "ed2ebc25e05246568c1477da2b97bc7a": {
     "views": [
      {
       "cell_index": 22
      }
     ]
    },
    "f0bd4c54c7a34f8fadf2443e6503e908": {
     "views": [
      {
       "cell_index": 22
      }
     ]
    },
    "f11b353d940642c49c91cc64e7b8b87c": {
     "views": [
      {
       "cell_index": 22
      }
     ]
    },
    "f139fa25257b4f0a8f780339d87b8ab3": {
     "views": [
      {
       "cell_index": 33
      }
     ]
    },
    "f1d46b6184c242eb8776b7848f59a233": {
     "views": [
      {
       "cell_index": 20
      }
     ]
    },
    "f776056026424da39823d5d1a90c6c73": {
     "views": [
      {
       "cell_index": 22
      }
     ]
    },
    "f886e32db5a848c680e24bffebf5a248": {
     "views": [
      {
       "cell_index": 20
      }
     ]
    },
    "f8eb0f63bc52416792d963d341e92cac": {
     "views": [
      {
       "cell_index": 22
      }
     ]
    },
    "f93549d3234d437991e3e8ccee7e2aef": {
     "views": [
      {
       "cell_index": 22
      }
     ]
    },
    "fb128ad83d604626b40e13b454e0cb91": {
     "views": [
      {
       "cell_index": 24
      }
     ]
    },
    "fd5503410927484f8e3a79f91701820e": {
     "views": [
      {
       "cell_index": 20
      }
     ]
    },
    "fd7a314013ae4b67b3051732b774dcf6": {
     "views": [
      {
       "cell_index": 44
      }
     ]
    },
    "fe12f66437d94adc95c058e7ab155a6b": {
     "views": [
      {
       "cell_index": 22
      }
     ]
    }
   },
   "version": "1.2.0"
  }
 },
 "nbformat": 4,
 "nbformat_minor": 1
}
